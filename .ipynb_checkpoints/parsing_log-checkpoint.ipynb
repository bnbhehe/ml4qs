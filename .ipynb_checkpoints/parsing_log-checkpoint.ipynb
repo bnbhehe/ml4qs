{
 "cells": [
  {
   "cell_type": "markdown",
   "metadata": {},
   "source": [
    "# PLACE ALL IMPORTS HERE TO AVOID RE-IMPORTING "
   ]
  },
  {
   "cell_type": "code",
   "execution_count": 1,
   "metadata": {
    "collapsed": false
   },
   "outputs": [
    {
     "name": "stdout",
     "output_type": "stream",
     "text": [
      "Populating the interactive namespace from numpy and matplotlib\n",
      "/home/cts/Desktop/ML4QS/Assignments/Assignment1_code\n"
     ]
    }
   ],
   "source": [
    "from __future__ import absolute_import\n",
    "from __future__ import division\n",
    "from __future__ import print_function\n",
    "from pprint import pprint\n",
    "%pylab inline\n",
    "import pandas as pd\n",
    "import os\n",
    "from collections import Counter\n",
    "from itertools import chain\n",
    "import json\n",
    "import seaborn as sns\n",
    "import matplotlib.pyplot as plt\n",
    "import ast\n",
    "\n",
    "import gc\n",
    "print(os.getcwd())"
   ]
  },
  {
   "cell_type": "markdown",
   "metadata": {},
   "source": [
    "# HELPER FUNCTIONS . HERE PUT ALL THE FUNCTIONS ACTUALLY"
   ]
  },
  {
   "cell_type": "code",
   "execution_count": 48,
   "metadata": {
    "collapsed": false
   },
   "outputs": [],
   "source": [
    "\n",
    "def get_labels(fname):\n",
    "    label_mappings = {}\n",
    "    with open(fname,'r+') as f:\n",
    "        for line in f.readlines():\n",
    "            line = line.rstrip().lower()\n",
    "            \n",
    "            splitted = line.split('|')\n",
    "            splitted = [x.rstrip().lower() for x in splitted]\n",
    "            if len(splitted) == 2:\n",
    "                print(splitted,type(splitted[1]))\n",
    "                if splitted[1] is 'label':\n",
    "                    print('yeah')\n",
    "                    continue\n",
    "                label = int(splitted[0])\n",
    "                name = splitted[1].rstrip().lower()\n",
    "                label_mappings[name] = label\n",
    "            else:\n",
    "                break\n",
    "    return label_mappings\n",
    "                \n",
    "\n",
    "\n",
    "def get_sensor_values(fname):\n",
    "    '''Get sensor values function. Parses the .txt log and puts all sensors in a csv'''\n",
    "    '''\n",
    "        args:\n",
    "            fname the filename of the sensor log\n",
    "        \n",
    "        output:\n",
    "            sensor_dict a dictionary where the keys are the sensors and the values are label-vector-timestamp\n",
    "    '''\n",
    "    sensor_dict = {}\n",
    "    with open(fname,'r+') as f:\n",
    "        for line in f.readlines():\n",
    "            splitted = line.split('|')\n",
    "            if len(splitted) != 4:\n",
    "                #in case we are before our data to avoid parsing errors\n",
    "                continue\n",
    "            splitted = [x.rstrip().lower() for x in splitted]\n",
    "            label,sensorname,vector,timestamp = splitted\n",
    "            \n",
    "            ### same as above this is actually the header  list.\n",
    "            if sensorname == 'sensorname':\n",
    "                continue\n",
    "            label = int(label)\n",
    "            vector = ast.literal_eval(vector)\n",
    "            timestamp = int(timestamp)\n",
    "            if sensorname not in sensor_dict.keys():\n",
    "                sensor_dict[sensorname] = []\n",
    "            else:\n",
    "                tmp_list = sensor_dict.get(sensorname)\n",
    "                tmp_list.append([label,vector,timestamp])\n",
    "                sensor_dict[sensorname] = tmp_list\n",
    "            \n",
    "    return sensor_dict\n",
    "\n",
    "def generate_csv(values,header=['label','x','y','z','timestamp'],fname='./data/toy_data/csv/gyroscope.csv'):\n",
    "    '''Creates a .csv at a specified path for a certain input'''\n",
    "    '''\n",
    "        args:\n",
    "            values    the sensor data values , a list of lists in our case\n",
    "            header    the header of the .csv . Default is label,x,y,z,timestamp \n",
    "            fname     the path and filename to save the .csv file\n",
    "        \n",
    "            \n",
    "    '''\n",
    "    with open(fname,'w') as f:\n",
    "        f.write(''.join([x+',' for x in header])+'\\n')\n",
    "        for v in values:\n",
    "            v[0] = int(v[0])\n",
    "            v[2] = int(v[2])\n",
    "            x = str(v[1]).replace('[','').replace(']','').replace(' ','')\n",
    "            line = '%d,%s,%d\\n'%(v[0],x,v[2])\n",
    "            f.write(line)"
   ]
  },
  {
   "cell_type": "code",
   "execution_count": 33,
   "metadata": {
    "collapsed": false
   },
   "outputs": [
    {
     "name": "stdout",
     "output_type": "stream",
     "text": [
      "./datasets/toy_data/csv/\n"
     ]
    }
   ],
   "source": [
    "#Directory tree should be :\n",
    "# |-WORKSPACE\n",
    "# |--thisnotebok.ipynb\n",
    "# |--datasets\n",
    "# |--toy_data\n",
    "# |---sensorLog_01.txt\n",
    "# |---csv\n",
    "# |----sensorname.csv\n",
    "# |----anothersensorname.csv\n",
    "dataset_folder = './datasets'\n",
    "current_dataset = 'toy_data'\n",
    "dataset_fname = 'sensorLog_01.txt'\n",
    "\n",
    "dataset_path = os.path.join(dataset_folder+'/'+current_dataset,dataset_fname)\n",
    "csv_path = os.path.join(dataset_folder+'/'+current_dataset,'csv/')\n",
    "if not os.path.exists(csv_path):\n",
    "    os.mkdir(csv_path)\n",
    "cnt = 0\n",
    "print(csv_path)\n"
   ]
  },
  {
   "cell_type": "markdown",
   "metadata": {},
   "source": [
    "# Try not to run this cell multiple times when we get more data. This is the file parsing and bottleneck of execution"
   ]
  },
  {
   "cell_type": "code",
   "execution_count": 36,
   "metadata": {
    "collapsed": false
   },
   "outputs": [
    {
     "ename": "ValueError",
     "evalue": "invalid literal for int() with base 10: 'statusid '",
     "output_type": "error",
     "traceback": [
      "\u001b[0;31m---------------------------------------------------------------------------\u001b[0m",
      "\u001b[0;31mValueError\u001b[0m                                Traceback (most recent call last)",
      "\u001b[0;32m<ipython-input-36-2fe0e9e7970d>\u001b[0m in \u001b[0;36m<module>\u001b[0;34m()\u001b[0m\n\u001b[1;32m      1\u001b[0m \u001b[0msensor_dict\u001b[0m \u001b[0;34m=\u001b[0m \u001b[0mget_sensor_values\u001b[0m\u001b[0;34m(\u001b[0m\u001b[0mdataset_path\u001b[0m\u001b[0;34m)\u001b[0m\u001b[0;34m\u001b[0m\u001b[0m\n\u001b[0;32m----> 2\u001b[0;31m \u001b[0mlabels\u001b[0m \u001b[0;34m=\u001b[0m \u001b[0mget_labels\u001b[0m\u001b[0;34m(\u001b[0m\u001b[0mdataset_path\u001b[0m\u001b[0;34m)\u001b[0m\u001b[0;34m\u001b[0m\u001b[0m\n\u001b[0m",
      "\u001b[0;32m<ipython-input-32-344bc2edcb76>\u001b[0m in \u001b[0;36mget_labels\u001b[0;34m(fname)\u001b[0m\n\u001b[1;32m     10\u001b[0m                 \u001b[0;32mif\u001b[0m \u001b[0msplitted\u001b[0m\u001b[0;34m[\u001b[0m\u001b[0;36m1\u001b[0m\u001b[0;34m]\u001b[0m\u001b[0;34m.\u001b[0m\u001b[0mrstrip\u001b[0m\u001b[0;34m(\u001b[0m\u001b[0;34m)\u001b[0m \u001b[0;34m==\u001b[0m \u001b[0;34m'label'\u001b[0m\u001b[0;34m:\u001b[0m\u001b[0;34m\u001b[0m\u001b[0m\n\u001b[1;32m     11\u001b[0m                     \u001b[0;32mcontinue\u001b[0m\u001b[0;34m\u001b[0m\u001b[0m\n\u001b[0;32m---> 12\u001b[0;31m                 \u001b[0mlabel\u001b[0m \u001b[0;34m=\u001b[0m \u001b[0mint\u001b[0m\u001b[0;34m(\u001b[0m\u001b[0msplitted\u001b[0m\u001b[0;34m[\u001b[0m\u001b[0;36m0\u001b[0m\u001b[0;34m]\u001b[0m\u001b[0;34m)\u001b[0m\u001b[0;34m\u001b[0m\u001b[0m\n\u001b[0m\u001b[1;32m     13\u001b[0m                 \u001b[0mname\u001b[0m \u001b[0;34m=\u001b[0m \u001b[0msplitted\u001b[0m\u001b[0;34m[\u001b[0m\u001b[0;36m1\u001b[0m\u001b[0;34m]\u001b[0m\u001b[0;34m.\u001b[0m\u001b[0mrstrip\u001b[0m\u001b[0;34m(\u001b[0m\u001b[0;34m)\u001b[0m\u001b[0;34m.\u001b[0m\u001b[0mlower\u001b[0m\u001b[0;34m(\u001b[0m\u001b[0;34m)\u001b[0m\u001b[0;34m\u001b[0m\u001b[0m\n\u001b[1;32m     14\u001b[0m                 \u001b[0mlabel_mappings\u001b[0m\u001b[0;34m[\u001b[0m\u001b[0mname\u001b[0m\u001b[0;34m]\u001b[0m \u001b[0;34m=\u001b[0m \u001b[0mlabel\u001b[0m\u001b[0;34m\u001b[0m\u001b[0m\n",
      "\u001b[0;31mValueError\u001b[0m: invalid literal for int() with base 10: 'statusid '"
     ]
    }
   ],
   "source": [
    "sensor_dict = get_sensor_values(dataset_path)\n"
   ]
  },
  {
   "cell_type": "code",
   "execution_count": 49,
   "metadata": {
    "collapsed": false
   },
   "outputs": [
    {
     "name": "stdout",
     "output_type": "stream",
     "text": [
      "['statusid ', ' label'] <type 'str'>\n"
     ]
    },
    {
     "ename": "ValueError",
     "evalue": "invalid literal for int() with base 10: 'statusid '",
     "output_type": "error",
     "traceback": [
      "\u001b[0;31m---------------------------------------------------------------------------\u001b[0m",
      "\u001b[0;31mValueError\u001b[0m                                Traceback (most recent call last)",
      "\u001b[0;32m<ipython-input-49-cf9537c8d63c>\u001b[0m in \u001b[0;36m<module>\u001b[0;34m()\u001b[0m\n\u001b[0;32m----> 1\u001b[0;31m \u001b[0mlabels\u001b[0m \u001b[0;34m=\u001b[0m \u001b[0mget_labels\u001b[0m\u001b[0;34m(\u001b[0m\u001b[0mdataset_path\u001b[0m\u001b[0;34m)\u001b[0m\u001b[0;34m\u001b[0m\u001b[0m\n\u001b[0m",
      "\u001b[0;32m<ipython-input-48-af68b51c6bd0>\u001b[0m in \u001b[0;36mget_labels\u001b[0;34m(fname)\u001b[0m\n\u001b[1;32m     12\u001b[0m                     \u001b[0;32mprint\u001b[0m\u001b[0;34m(\u001b[0m\u001b[0;34m'yeah'\u001b[0m\u001b[0;34m)\u001b[0m\u001b[0;34m\u001b[0m\u001b[0m\n\u001b[1;32m     13\u001b[0m                     \u001b[0;32mcontinue\u001b[0m\u001b[0;34m\u001b[0m\u001b[0m\n\u001b[0;32m---> 14\u001b[0;31m                 \u001b[0mlabel\u001b[0m \u001b[0;34m=\u001b[0m \u001b[0mint\u001b[0m\u001b[0;34m(\u001b[0m\u001b[0msplitted\u001b[0m\u001b[0;34m[\u001b[0m\u001b[0;36m0\u001b[0m\u001b[0;34m]\u001b[0m\u001b[0;34m)\u001b[0m\u001b[0;34m\u001b[0m\u001b[0m\n\u001b[0m\u001b[1;32m     15\u001b[0m                 \u001b[0mname\u001b[0m \u001b[0;34m=\u001b[0m \u001b[0msplitted\u001b[0m\u001b[0;34m[\u001b[0m\u001b[0;36m1\u001b[0m\u001b[0;34m]\u001b[0m\u001b[0;34m.\u001b[0m\u001b[0mrstrip\u001b[0m\u001b[0;34m(\u001b[0m\u001b[0;34m)\u001b[0m\u001b[0;34m.\u001b[0m\u001b[0mlower\u001b[0m\u001b[0;34m(\u001b[0m\u001b[0;34m)\u001b[0m\u001b[0;34m\u001b[0m\u001b[0m\n\u001b[1;32m     16\u001b[0m                 \u001b[0mlabel_mappings\u001b[0m\u001b[0;34m[\u001b[0m\u001b[0mname\u001b[0m\u001b[0;34m]\u001b[0m \u001b[0;34m=\u001b[0m \u001b[0mlabel\u001b[0m\u001b[0;34m\u001b[0m\u001b[0m\n",
      "\u001b[0;31mValueError\u001b[0m: invalid literal for int() with base 10: 'statusid '"
     ]
    }
   ],
   "source": [
    "labels = get_labels(dataset_path)"
   ]
  },
  {
   "cell_type": "code",
   "execution_count": 35,
   "metadata": {
    "collapsed": false
   },
   "outputs": [
    {
     "name": "stdout",
     "output_type": "stream",
     "text": [
      "==============================================================\n",
      "Sensors are: [\n",
      "  \"bmi160 accelerometer\", \n",
      "  \"bmp280 pressure\", \n",
      "  \"rpr0521 light sensor\", \n",
      "  \"gravity\", \n",
      "  \"bmi160 gyroscope\", \n",
      "  \"rotation vector\", \n",
      "  \"linear acceleration\"\n",
      "]\n"
     ]
    }
   ],
   "source": [
    "#Get sensor names to iterate over them\n",
    "sensor_names = sensor_dict.keys()\n",
    "print('==============================================================')\n",
    "print('Sensors are:',json.dumps(sensor_names,indent=2))"
   ]
  },
  {
   "cell_type": "code",
   "execution_count": 34,
   "metadata": {
    "collapsed": true
   },
   "outputs": [],
   "source": [
    "for name in sensor_names:\n",
    "    fname = name.replace(' ','_')+'.csv'\n",
    "    generate_csv(sensor_dict[name],fname=csv_path+fname)"
   ]
  },
  {
   "cell_type": "code",
   "execution_count": 25,
   "metadata": {
    "collapsed": false
   },
   "outputs": [
    {
     "data": {
      "text/plain": [
       "{' label\\n': 'statusId ',\n",
       " 'onDesk\\n': '20',\n",
       " 'sitting\\n': '16',\n",
       " 'standing\\n': '19',\n",
       " 'walking\\n': '18'}"
      ]
     },
     "execution_count": 25,
     "metadata": {},
     "output_type": "execute_result"
    }
   ],
   "source": [
    "labels"
   ]
  },
  {
   "cell_type": "code",
   "execution_count": 22,
   "metadata": {
    "collapsed": false
   },
   "outputs": [
    {
     "ename": "KeyError",
     "evalue": "'onDesk'",
     "output_type": "error",
     "traceback": [
      "\u001b[0;31m---------------------------------------------------------------------------\u001b[0m",
      "\u001b[0;31mKeyError\u001b[0m                                  Traceback (most recent call last)",
      "\u001b[0;32m<ipython-input-22-04152a3a611f>\u001b[0m in \u001b[0;36m<module>\u001b[0;34m()\u001b[0m\n\u001b[0;32m----> 1\u001b[0;31m \u001b[0mlabels\u001b[0m\u001b[0;34m[\u001b[0m\u001b[0;34m'onDesk'\u001b[0m\u001b[0;34m]\u001b[0m\u001b[0;34m\u001b[0m\u001b[0m\n\u001b[0m",
      "\u001b[0;31mKeyError\u001b[0m: 'onDesk'"
     ]
    }
   ],
   "source": []
  },
  {
   "cell_type": "code",
   "execution_count": null,
   "metadata": {
    "collapsed": true
   },
   "outputs": [],
   "source": []
  }
 ],
 "metadata": {
  "kernelspec": {
   "display_name": "Python 2",
   "language": "python",
   "name": "python2"
  },
  "language_info": {
   "codemirror_mode": {
    "name": "ipython",
    "version": 2
   },
   "file_extension": ".py",
   "mimetype": "text/x-python",
   "name": "python",
   "nbconvert_exporter": "python",
   "pygments_lexer": "ipython2",
   "version": "2.7.13"
  }
 },
 "nbformat": 4,
 "nbformat_minor": 2
}

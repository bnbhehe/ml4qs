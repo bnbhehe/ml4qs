{
 "cells": [
  {
   "cell_type": "markdown",
   "metadata": {},
   "source": [
    "# PLACE ALL IMPORTS HERE TO AVOID RE-IMPORTING "
   ]
  },
  {
   "cell_type": "code",
   "execution_count": 1,
   "metadata": {
    "collapsed": false
   },
   "outputs": [
    {
     "name": "stdout",
     "output_type": "stream",
     "text": [
      "Populating the interactive namespace from numpy and matplotlib\n",
      "/home/cts/Desktop/ML4QS/Assignments/Assignment1_code\n"
     ]
    }
   ],
   "source": [
    "from __future__ import absolute_import\n",
    "from __future__ import division\n",
    "from __future__ import print_function\n",
    "from pprint import pprint\n",
    "%pylab inline\n",
    "import pandas as pd\n",
    "import os\n",
    "from collections import Counter\n",
    "from itertools import chain\n",
    "import json\n",
    "import seaborn as sns\n",
    "import matplotlib.pyplot as plt\n",
    "import ast\n",
    "\n",
    "import gc\n",
    "print(os.getcwd())"
   ]
  },
  {
   "cell_type": "markdown",
   "metadata": {},
   "source": [
    "# HELPER FUNCTIONS . HERE PUT ALL THE FUNCTIONS ACTUALLY"
   ]
  },
  {
   "cell_type": "code",
   "execution_count": 2,
   "metadata": {
    "collapsed": false
   },
   "outputs": [],
   "source": [
    "\n",
    "def get_labels(fname):\n",
    "    label_mappings = {}\n",
    "    with open(fname,'r+') as f:\n",
    "        for line in f.readlines():\n",
    "            line = line.rstrip().lower()\n",
    "            \n",
    "            splitted = line.split('|')\n",
    "            splitted = [x.strip().rstrip().lower() for x in splitted]\n",
    "            if len(splitted) == 2:\n",
    "                if splitted[1] =='label':\n",
    "                    print('yeah')\n",
    "                    continue\n",
    "                label = int(splitted[0])\n",
    "                name = splitted[1].rstrip().lower()\n",
    "                label_mappings[name] = label\n",
    "            else:\n",
    "                break\n",
    "    return label_mappings\n",
    "                \n",
    "\n",
    "\n",
    "def get_sensor_values(fname,device='log1'):\n",
    "    '''Get sensor values function. Parses the .txt log and puts all sensors in a csv\n",
    "        args:\n",
    "            fname the filename of the sensor log\n",
    "        \n",
    "        output:\n",
    "            sensor_dict a dictionary where the keys are the sensors and the values are label-vector-timestamp\n",
    "    '''\n",
    "    sensor_dict = {}\n",
    "    device = fname.split('/')[len(fname.split('/'))-1]\n",
    "    print('The device is %s'%device)\n",
    "    labels_dict = {}\n",
    "    label_names = get_labels(fname)\n",
    "    print(label_names)\n",
    "    with open(fname,'r+') as f:\n",
    "        for line in f.readlines():\n",
    "            splitted = line.split('|')\n",
    "            if len(splitted) != 4:\n",
    "                #in case we are before our data to avoid parsing errors\n",
    "                continue\n",
    "            splitted = [x.rstrip().lower() for x in splitted]\n",
    "            label,sensorname,vector,timestamp = splitted\n",
    "            if label not in labels_dict.keys():\n",
    "                labels_dict[label] = []\n",
    "            else:\n",
    "                if label == 'statusid':\n",
    "                    continue\n",
    "                tmp_list = labels_dict.get(label)\n",
    "                tmp_list.append(['interval_label',\n",
    "                                 device,\n",
    "                                 label_names.keys()[label_names.values().index(int(label))],\n",
    "                                 timestamp\n",
    "                                ])\n",
    "            ### same as above this is actually the header  list.\n",
    "            if sensorname == 'sensorname':\n",
    "                continue\n",
    "            vector = ast.literal_eval(vector)\n",
    "            if sensorname not in sensor_dict.keys():\n",
    "                sensor_dict[sensorname] = []\n",
    "            else:\n",
    "                tmp_list = sensor_dict.get(sensorname)\n",
    "                tmp_list.append([label,vector,timestamp])\n",
    "                sensor_dict[sensorname] = tmp_list\n",
    "            \n",
    "    return sensor_dict,labels_dict\n",
    "\n",
    "def generate_labels(values,header=['device','label','label_start','label_end'],fname='./data/toy_data/csv/labels.csv'):\n",
    "    label_mapping = get_sensor_values(dataset_path)\n",
    "    \n",
    "    with open(fname,'w') as f:\n",
    "        f.write(''.join([x+',' for x in header])+'\\n')\n",
    "        for key in values.keys():\n",
    "            label_values = values[key]\n",
    "            if len(label_values) == 0:\n",
    "                continue\n",
    "            label_start = label_values[0][3]\n",
    "            label_end = label_values[-1][3]\n",
    "            for v in label_values:\n",
    "                if key == '2':\n",
    "                    key_map = 'walkupstairs'\n",
    "                elif key == '1':\n",
    "                    key_map = 'walkdownstairs'\n",
    "                else:\n",
    "                    print(key,type(key))\n",
    "                f.write('%s,%s,%s,%s\\n'%(v[1],key_map,label_start,label_end))\n",
    "\n",
    "def generate_csv(values,header=['x','y','z','timestamp'],label_only='2',fname='./data/toy_data/csv/gyroscope.csv'):\n",
    "    '''Creates a .csv at a specified path for a certain input'''\n",
    "    '''\n",
    "        args:\n",
    "            values    the sensor data values , a list of lists in our case\n",
    "            header    the header of the .csv . Default is label,x,y,z,timestamp \n",
    "            fname     the path and filename to save the .csv file\n",
    "        \n",
    "            \n",
    "    '''\n",
    "    with open(fname,'w') as f:\n",
    "        f.write(''.join([x+',' for x in header])+'\\n')\n",
    "        for v in values:\n",
    "            \n",
    "#             if str(v[0]) != str(label_only):\n",
    "#                 continue\n",
    "            v[2] = float(v[2])\n",
    "            x = str(v[1]).replace('[','').replace(']','').replace(' ','')\n",
    "            if header[0] =='light_intensity':\n",
    "                x = x.replace(',0.0','')    \n",
    "            line = '%s,%d\\n'%(x,v[2])\n",
    "            f.write(line)\n"
   ]
  },
  {
   "cell_type": "code",
   "execution_count": 58,
   "metadata": {
    "collapsed": false
   },
   "outputs": [
    {
     "name": "stdout",
     "output_type": "stream",
     "text": [
      "./datasets/stairs/csv/\n"
     ]
    }
   ],
   "source": [
    "#Directory tree should be :\n",
    "# |-WORKSPACE\n",
    "# |--thisnotebok.ipynb\n",
    "# |--datasets\n",
    "# |--toy_data\n",
    "# |---sensorLog_01.txt\n",
    "# |---csv\n",
    "# |----sensorname.csv\n",
    "# |----anothersensorname.csv\n",
    "dataset_folder = './datasets'\n",
    "current_dataset = 'stairs'\n",
    "dataset_fname = 'log1'\n",
    "\n",
    "dataset_path = os.path.join(dataset_folder+'/'+current_dataset,dataset_fname)\n",
    "csv_path = os.path.join(dataset_folder+'/'+current_dataset,'csv/')\n",
    "if not os.path.exists(csv_path):\n",
    "    os.mkdir(csv_path)\n",
    "cnt = 0\n",
    "print(csv_path)\n"
   ]
  },
  {
   "cell_type": "markdown",
   "metadata": {},
   "source": [
    "# Try not to run this cell multiple times when we get more data. This is the file parsing and bottleneck of execution"
   ]
  },
  {
   "cell_type": "code",
   "execution_count": 46,
   "metadata": {
    "collapsed": false
   },
   "outputs": [
    {
     "name": "stdout",
     "output_type": "stream",
     "text": [
      "The device is log1\n",
      "yeah\n",
      "{'walkupstairs': 2, 'walkdownstairs': 1}\n"
     ]
    }
   ],
   "source": [
    "sensor_dict,labels_dict = get_sensor_values(dataset_path)\n"
   ]
  },
  {
   "cell_type": "code",
   "execution_count": 47,
   "metadata": {
    "collapsed": false
   },
   "outputs": [
    {
     "name": "stdout",
     "output_type": "stream",
     "text": [
      "==============================================================\n",
      "Sensors are: [\n",
      "  \"bmi160 accelerometer\", \n",
      "  \"bmi160 gyroscope\", \n",
      "  \"rpr0521 proximity sensor\", \n",
      "  \"rpr0521 light sensor\", \n",
      "  \"bmi160 step counter\", \n",
      "  \"bmi160 step detector\", \n",
      "  \"rotation vector\", \n",
      "  \"linear acceleration\", \n",
      "  \"orientation\"\n",
      "]\n"
     ]
    }
   ],
   "source": [
    "#Get sensor names to iterate over them\n",
    "sensor_names = sensor_dict.keys()\n",
    "print('==============================================================')\n",
    "print('Sensors are:',json.dumps(sensor_names,indent=2))"
   ]
  },
  {
   "cell_type": "code",
   "execution_count": 66,
   "metadata": {
    "collapsed": false
   },
   "outputs": [
    {
     "name": "stdout",
     "output_type": "stream",
     "text": [
      "The device is log1\n",
      "yeah\n",
      "{'walkupstairs': 2, 'walkdownstairs': 1}\n"
     ]
    }
   ],
   "source": [
    "generate_labels(labels_dict,fname=csv_path+'labels.csv')\n"
   ]
  },
  {
   "cell_type": "code",
   "execution_count": 67,
   "metadata": {
    "collapsed": false
   },
   "outputs": [],
   "source": [
    "for name in sensor_names:\n",
    "    fname = name.replace(' ','_')+'.csv'\n",
    "    if 'light' in name:\n",
    "        generate_csv(sensor_dict[name],header=['light_intensity','timestamp'],fname=csv_path+fname)\n",
    "    elif 'rotation' in name:\n",
    "        generate_csv(sensor_dict[name],header=['x','y','z','theta','phi','timestamp'],fname = csv_path +fname)\n",
    "    elif 'step' in name:\n",
    "        generate_csv(sensor_dict[name],header=['value','timestamp'],fname=csv_path+fname)\n",
    "    else:    \n",
    "        generate_csv(sensor_dict[name],fname=csv_path+fname)\n",
    "    "
   ]
  },
  {
   "cell_type": "code",
   "execution_count": 68,
   "metadata": {
    "collapsed": false
   },
   "outputs": [
    {
     "data": {
      "text/plain": [
       "'1'"
      ]
     },
     "execution_count": 68,
     "metadata": {},
     "output_type": "execute_result"
    }
   ],
   "source": [
    "sensor_dict['bmi160 accelerometer'][0][0]"
   ]
  },
  {
   "cell_type": "code",
   "execution_count": null,
   "metadata": {
    "collapsed": true
   },
   "outputs": [],
   "source": []
  }
 ],
 "metadata": {
  "kernelspec": {
   "display_name": "Python 2",
   "language": "python",
   "name": "python2"
  },
  "language_info": {
   "codemirror_mode": {
    "name": "ipython",
    "version": 2
   },
   "file_extension": ".py",
   "mimetype": "text/x-python",
   "name": "python",
   "nbconvert_exporter": "python",
   "pygments_lexer": "ipython2",
   "version": "2.7.13"
  }
 },
 "nbformat": 4,
 "nbformat_minor": 2
}

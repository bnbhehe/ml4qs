{
 "cells": [
  {
   "cell_type": "code",
   "execution_count": 5,
   "metadata": {
    "collapsed": false
   },
   "outputs": [
    {
     "name": "stdout",
     "output_type": "stream",
     "text": [
      "Populating the interactive namespace from numpy and matplotlib\n",
      "Imports done ...✈✈✈✈✈✈✈✈ You are free to go.\n"
     ]
    }
   ],
   "source": [
    "### Chapter 7: compulsory: 3 and 5 and select one of these two sets: {1} or {2}\n",
    "from __future__ import division\n",
    "from __future__ import print_function\n",
    "import pandas as pd\n",
    "%pylab inline\n",
    "import time\n",
    "import warnings\n",
    "import os\n",
    "from collections import Counter\n",
    "from itertools import chain\n",
    "import json\n",
    "import seaborn as sns\n",
    "import ast\n",
    "from itertools import izip\n",
    "\n",
    "with warnings.catch_warnings():\n",
    "    warnings.filterwarnings(\"ignore\",category=DeprecationWarning)\n",
    "import sklearn.preprocessing\n",
    "\n",
    "print(\"Imports done ...✈✈✈✈✈✈✈✈ You are free to go.\")\n",
    "\n",
    "import six\n"
   ]
  },
  {
   "cell_type": "code",
   "execution_count": 6,
   "metadata": {
    "collapsed": true
   },
   "outputs": [],
   "source": [
    "def pairwise(iterable):\n",
    "    \"s -> (s0, s1), (s2, s3), (s4, s5), ...\"\n",
    "    a = iter(iterable)\n",
    "    return izip(a, a)\n",
    "\n",
    "def get_labels(fname):\n",
    "    label_mappings = {}\n",
    "    with open(fname,'r+') as f:\n",
    "        for line in f.readlines():\n",
    "            line = line.rstrip().lower()\n",
    "            \n",
    "            splitted = line.split('|')\n",
    "            splitted = [x.strip().rstrip().lower() for x in splitted]\n",
    "            if len(splitted) == 2:\n",
    "                if splitted[1] =='label':\n",
    "                    continue\n",
    "                label = int(splitted[0])\n",
    "                name = splitted[1].rstrip().lower()\n",
    "                if name  not in label_mappings.keys():\n",
    "                    label_mappings[name] = []\n",
    "                    label_mappings[name].append(label)\n",
    "                else:\n",
    "                    label_mappings[name].append(label)\n",
    "            else:\n",
    "                break\n",
    "    return label_mappings\n",
    "                \n",
    "\n",
    "\n",
    "\n",
    "\n",
    "def generate_labels(header=['sensor_type','device','label','label_start','datetime_start','label_end','datetime_end'],\n",
    "                    fname='./ml4qsbeasts/log_events',log_fname='./ml4qsbeasts/new_log',fout='./ml4qsbeasts/labels.csv'):\n",
    "    \n",
    "    label_mapping = get_labels(log_fname)\n",
    "    labels_list = []\n",
    "    lines_list = []\n",
    "    with open(fname,'r+') as f:\n",
    "        for line in f.readlines():\n",
    "            lines_list.append(line)\n",
    "    \n",
    "    for line,line2 in pairwise(lines_list):\n",
    " \n",
    "        splitted = line.split('|')\n",
    "        splitted = [x.rstrip().lower() for x in splitted]\n",
    "        label,_,_,time_start = splitted\n",
    "\n",
    "        splitted = line2.split('|')\n",
    "        splitted = [x.rstrip().lower() for x in splitted]\n",
    "        label,_,_,time_end = splitted\n",
    "        for k in label_mapping.keys():\n",
    "            if int(label) in label_mapping[k]:\n",
    "                key = k\n",
    "        \n",
    "        labels_list.append(['interval_label','tommie smartphone',\n",
    "                              key,time_start,pd.to_datetime(time_start,unit='ms'),\n",
    "                            time_end,pd.to_datetime(time_end,unit='ms')])\n",
    "        \n",
    "    \n",
    "    with open(fout,'w+') as f:\n",
    "        f.write(','.join([str(x) for x in header])+'\\n')\n",
    "        for line in labels_list:\n",
    "            line = ','.join([str(x) for x in line])\n",
    "            f.write(line+'\\n')\n",
    "    return labels_list\n",
    "\n",
    "            \n",
    "def get_sensor_values(fname,device='log1'):\n",
    "    '''Get sensor values function. Parses the .txt log and puts all sensors in a csv\n",
    "        args:\n",
    "            fname the filename of the sensor log\n",
    "        \n",
    "        output:\n",
    "            sensor_dict a dictionary where the keys are the sensors and the values are label-vector-timestamp\n",
    "    '''\n",
    "    sensor_dict = {}\n",
    "    device = fname.split('/')[len(fname.split('/'))-1]\n",
    "    labels_dict = {}\n",
    "    label_names = get_labels(fname)\n",
    "    print(label_names)\n",
    "    with open(fname,'r+') as f:\n",
    "        for line in f.readlines():\n",
    "            splitted = line.split('|')\n",
    "            if len(splitted) != 4:\n",
    "                #in case we are before our data to avoid parsing errors\n",
    "                continue\n",
    "            splitted = [x.rstrip().lower() for x in splitted]\n",
    "            label_id,sensorname,vector,timestamp = splitted\n",
    "            if sensorname == 'sensorname':\n",
    "                continue\n",
    "            if sensorname not in sensor_dict.keys():\n",
    "                sensor_dict[sensorname] = []\n",
    "            else:\n",
    "                tmp_list = sensor_dict.get(sensorname)\n",
    "                tmp_list.append([label_id,vector,timestamp])\n",
    "                sensor_dict[sensorname] = tmp_list\n",
    "            \n",
    "            \n",
    "    return sensor_dict"
   ]
  },
  {
   "cell_type": "code",
   "execution_count": 14,
   "metadata": {
    "collapsed": false
   },
   "outputs": [],
   "source": [
    "\n",
    "dataset_folder = './ml4qsbeasts/'\n",
    "\n",
    "fname = 'new_log'\n",
    "dataset_path = os.path.join(dataset_folder,fname)\n",
    "csv_folder = os.path.join(dataset_folder,'csv')"
   ]
  },
  {
   "cell_type": "code",
   "execution_count": 15,
   "metadata": {
    "collapsed": false
   },
   "outputs": [
    {
     "name": "stdout",
     "output_type": "stream",
     "text": [
      "{'standing': [6, 11], 'walking': [9, 12], 'sitting': [10, 13], 'stairsdown': [4, 7], 'stairsup': [5, 8], 'ondesk': [14]}\n"
     ]
    }
   ],
   "source": [
    "sensor_dict = get_sensor_values(dataset_path,device='tommie_device')\n",
    "if not os.path.exists(csv_folder):\n",
    "    os.mkdir(csv_folder)\n",
    "generate_csv(sensor_dict['bmi160 accelerometer'],header=['x','y','z','timestamp'],fname='./ml4qsbeasts/csv/accelerometer.csv')\n",
    "generate_csv(sensor_dict['bmi160 gyroscope'],header=['x','y','z','timestamp'],fname='./ml4qsbeasts/csv/gyroscope.csv')\n",
    "generate_csv(sensor_dict['rotation vector'],header=['x','y','z','theta','phi','timestamp'],fname='./ml4qsbeasts/csv/rotation.csv')\n",
    "\n",
    "dd = generate_labels()"
   ]
  },
  {
   "cell_type": "markdown",
   "metadata": {},
   "source": [
    "# Chapter 7.3\n",
    "In our example, we use the same methods, but on a classification task with the same labels as the crowdsignal dataset."
   ]
  },
  {
   "cell_type": "code",
   "execution_count": 11,
   "metadata": {
    "collapsed": false
   },
   "outputs": [
    {
     "name": "stdout",
     "output_type": "stream",
     "text": [
      "11\n"
     ]
    }
   ],
   "source": [
    "print(len(dd))"
   ]
  },
  {
   "cell_type": "code",
   "execution_count": null,
   "metadata": {
    "collapsed": true
   },
   "outputs": [],
   "source": []
  }
 ],
 "metadata": {
  "kernelspec": {
   "display_name": "Python 2",
   "language": "python",
   "name": "python2"
  },
  "language_info": {
   "codemirror_mode": {
    "name": "ipython",
    "version": 2
   },
   "file_extension": ".py",
   "mimetype": "text/x-python",
   "name": "python",
   "nbconvert_exporter": "python",
   "pygments_lexer": "ipython2",
   "version": "2.7.13"
  }
 },
 "nbformat": 4,
 "nbformat_minor": 2
}

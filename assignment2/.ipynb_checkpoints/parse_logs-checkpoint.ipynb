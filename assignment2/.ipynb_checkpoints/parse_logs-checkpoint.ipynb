{
 "cells": [
  {
   "cell_type": "code",
   "execution_count": 1,
   "metadata": {
    "collapsed": false
   },
   "outputs": [
    {
     "name": "stdout",
     "output_type": "stream",
     "text": [
      "Populating the interactive namespace from numpy and matplotlib\n",
      "Imports done ...✈✈✈✈✈✈✈✈ You are free to go.\n"
     ]
    },
    {
     "ename": "SyntaxError",
     "evalue": "invalid syntax (parser.py, line 137)",
     "output_type": "error",
     "traceback": [
      "\u001b[0;36m  File \u001b[0;32m\"parser.py\"\u001b[0;36m, line \u001b[0;32m137\u001b[0m\n\u001b[0;31m    def generate_labels(values,header['device','label','label_start','label_end'],\u001b[0m\n\u001b[0m                                     ^\u001b[0m\n\u001b[0;31mSyntaxError\u001b[0m\u001b[0;31m:\u001b[0m invalid syntax\n"
     ]
    }
   ],
   "source": [
    "### Chapter 7: compulsory: 3 and 5 and select one of these two sets: {1} or {2}\n",
    "from __future__ import division\n",
    "from __future__ import print_function\n",
    "import pandas as pd\n",
    "%pylab inline\n",
    "import time\n",
    "import warnings\n",
    "import os\n",
    "from collections import Counter\n",
    "from itertools import chain\n",
    "import json\n",
    "import seaborn as sns\n",
    "import ast\n",
    "with warnings.catch_warnings():\n",
    "    warnings.filterwarnings(\"ignore\",category=DeprecationWarning)\n",
    "import sklearn.preprocessing\n",
    "\n",
    "print(\"Imports done ...✈✈✈✈✈✈✈✈ You are free to go.\")\n",
    "\n",
    "import six\n",
    "from sklearn.datasets import load_breast_cancer\n",
    "from parser import generate_labels,get_sensor_values,get_labels"
   ]
  },
  {
   "cell_type": "code",
   "execution_count": 115,
   "metadata": {
    "collapsed": false
   },
   "outputs": [
    {
     "name": "stdout",
     "output_type": "stream",
     "text": [
      "./ml4qsbeasts/new_log\n",
      "/home/cts/Desktop/ML4QS/Assignments/assignments_code_git/assignment2\n"
     ]
    }
   ],
   "source": [
    "dataset_folder = './ml4qsbeasts/'\n",
    "fname = 'new_log'\n",
    "dataset_path = os.path.join(dataset_folder,fname)\n",
    "print(dataset_path)\n",
    "print(os.getcwd())\n",
    "from itertools import izip\n",
    "\n",
    "def pairwise(iterable):\n",
    "    \"s -> (s0, s1), (s2, s3), (s4, s5), ...\"\n",
    "    a = iter(iterable)\n",
    "    return izip(a, a)"
   ]
  },
  {
   "cell_type": "code",
   "execution_count": 103,
   "metadata": {
    "collapsed": false
   },
   "outputs": [
    {
     "name": "stdout",
     "output_type": "stream",
     "text": [
      "The device is new_log\n",
      "('got here?', 7)\n",
      "('got here?', 8)\n",
      "('got here?', 11)\n",
      "('got here?', 12)\n",
      "('got here?', 13)\n",
      "{'standing': [6, 11], 'walking': [9, 12], 'sitting': [10, 13], 'stairsdown': [4, 7], 'stairsup': [5, 8], 'ondesk': [14]}\n"
     ]
    }
   ],
   "source": [
    "sensor_dict = get_sensor_values2(dataset_path,device='tommie_device')\n",
    "generate_csv(sensor_dict['bmi160 accelerometer'],header=['x,y,z','timestamp'],fname='tmp_acce.csv')"
   ]
  },
  {
   "cell_type": "markdown",
   "metadata": {},
   "source": [
    "# Chapter 7.3\n",
    "In our example, we use the same methods, but on a classification task with the same labels as the crowdsignal dataset."
   ]
  },
  {
   "cell_type": "code",
   "execution_count": 111,
   "metadata": {
    "collapsed": false
   },
   "outputs": [],
   "source": []
  },
  {
   "cell_type": "code",
   "execution_count": 124,
   "metadata": {
    "collapsed": false
   },
   "outputs": [
    {
     "name": "stdout",
     "output_type": "stream",
     "text": [
      "('got here?', 7)\n",
      "('got here?', 8)\n",
      "('got here?', 11)\n",
      "('got here?', 12)\n",
      "('got here?', 13)\n",
      "{'standing': [6, 11], 'walking': [9, 12], 'sitting': [10, 13], 'stairsdown': [4, 7], 'stairsup': [5, 8], 'ondesk': [14]}\n",
      "[['interval_label', 'tommie smartphone', 'stairsdown', '1498010210795', Timestamp('2017-06-21 01:56:50.795000'), '1498010250904', Timestamp('2017-06-21 01:57:30.904000')], ['interval_label', 'tommie smartphone', 'stairsup', '1498010251062', Timestamp('2017-06-21 01:57:31.062000'), '1498010297381', Timestamp('2017-06-21 01:58:17.381000')], ['interval_label', 'tommie smartphone', 'standing', '1498010297414', Timestamp('2017-06-21 01:58:17.414000'), '1498010337044', Timestamp('2017-06-21 01:58:57.044000')], ['interval_label', 'tommie smartphone', 'stairsdown', '1498010337074', Timestamp('2017-06-21 01:58:57.074000'), '1498010376387', Timestamp('2017-06-21 01:59:36.387000')], ['interval_label', 'tommie smartphone', 'stairsup', '1498010376422', Timestamp('2017-06-21 01:59:36.422000'), '1498010422415', Timestamp('2017-06-21 02:00:22.415000')], ['interval_label', 'tommie smartphone', 'walking', '1498010422433', Timestamp('2017-06-21 02:00:22.433000'), '1498010497766', Timestamp('2017-06-21 02:01:37.766000')], ['interval_label', 'tommie smartphone', 'sitting', '1498010497798', Timestamp('2017-06-21 02:01:37.798000'), '1498010499927', Timestamp('2017-06-21 02:01:39.927000')], ['interval_label', 'tommie smartphone', 'standing', '1498010499954', Timestamp('2017-06-21 02:01:39.954000'), '1498010554697', Timestamp('2017-06-21 02:02:34.697000')], ['interval_label', 'tommie smartphone', 'walking', '1498010554718', Timestamp('2017-06-21 02:02:34.718000'), '1498010591899', Timestamp('2017-06-21 02:03:11.899000')], ['interval_label', 'tommie smartphone', 'sitting', '1498010591925', Timestamp('2017-06-21 02:03:11.925000'), '1498010646712', Timestamp('2017-06-21 02:04:06.712000')], ['interval_label', 'tommie smartphone', 'ondesk', '1498010646738', Timestamp('2017-06-21 02:04:06.738000'), '1498010707220', Timestamp('2017-06-21 02:05:07.220000')]]\n"
     ]
    }
   ],
   "source": [
    "dd = generate_labels2()\n",
    "print(dd)"
   ]
  },
  {
   "cell_type": "code",
   "execution_count": 125,
   "metadata": {
    "collapsed": false
   },
   "outputs": [
    {
     "name": "stdout",
     "output_type": "stream",
     "text": [
      "[['interval_label', 'tommie smartphone', 'stairsdown', '1498010210795', Timestamp('2017-06-21 01:56:50.795000'), '1498010250904', Timestamp('2017-06-21 01:57:30.904000')], ['interval_label', 'tommie smartphone', 'stairsup', '1498010251062', Timestamp('2017-06-21 01:57:31.062000'), '1498010297381', Timestamp('2017-06-21 01:58:17.381000')], ['interval_label', 'tommie smartphone', 'standing', '1498010297414', Timestamp('2017-06-21 01:58:17.414000'), '1498010337044', Timestamp('2017-06-21 01:58:57.044000')], ['interval_label', 'tommie smartphone', 'stairsdown', '1498010337074', Timestamp('2017-06-21 01:58:57.074000'), '1498010376387', Timestamp('2017-06-21 01:59:36.387000')], ['interval_label', 'tommie smartphone', 'stairsup', '1498010376422', Timestamp('2017-06-21 01:59:36.422000'), '1498010422415', Timestamp('2017-06-21 02:00:22.415000')], ['interval_label', 'tommie smartphone', 'walking', '1498010422433', Timestamp('2017-06-21 02:00:22.433000'), '1498010497766', Timestamp('2017-06-21 02:01:37.766000')], ['interval_label', 'tommie smartphone', 'sitting', '1498010497798', Timestamp('2017-06-21 02:01:37.798000'), '1498010499927', Timestamp('2017-06-21 02:01:39.927000')], ['interval_label', 'tommie smartphone', 'standing', '1498010499954', Timestamp('2017-06-21 02:01:39.954000'), '1498010554697', Timestamp('2017-06-21 02:02:34.697000')], ['interval_label', 'tommie smartphone', 'walking', '1498010554718', Timestamp('2017-06-21 02:02:34.718000'), '1498010591899', Timestamp('2017-06-21 02:03:11.899000')], ['interval_label', 'tommie smartphone', 'sitting', '1498010591925', Timestamp('2017-06-21 02:03:11.925000'), '1498010646712', Timestamp('2017-06-21 02:04:06.712000')], ['interval_label', 'tommie smartphone', 'ondesk', '1498010646738', Timestamp('2017-06-21 02:04:06.738000'), '1498010707220', Timestamp('2017-06-21 02:05:07.220000')]]\n"
     ]
    }
   ],
   "source": [
    "print(dd)"
   ]
  },
  {
   "cell_type": "code",
   "execution_count": 126,
   "metadata": {
    "collapsed": false
   },
   "outputs": [
    {
     "name": "stdout",
     "output_type": "stream",
     "text": [
      "11\n"
     ]
    }
   ],
   "source": [
    "print(len(dd))"
   ]
  },
  {
   "cell_type": "code",
   "execution_count": null,
   "metadata": {
    "collapsed": true
   },
   "outputs": [],
   "source": []
  }
 ],
 "metadata": {
  "kernelspec": {
   "display_name": "Python 2",
   "language": "python",
   "name": "python2"
  },
  "language_info": {
   "codemirror_mode": {
    "name": "ipython",
    "version": 2
   },
   "file_extension": ".py",
   "mimetype": "text/x-python",
   "name": "python",
   "nbconvert_exporter": "python",
   "pygments_lexer": "ipython2",
   "version": "2.7.13"
  }
 },
 "nbformat": 4,
 "nbformat_minor": 2
}

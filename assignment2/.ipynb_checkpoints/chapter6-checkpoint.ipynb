{
 "cells": [
  {
   "cell_type": "code",
   "execution_count": 1,
   "metadata": {
    "collapsed": false
   },
   "outputs": [
    {
     "name": "stdout",
     "output_type": "stream",
     "text": [
      "Populating the interactive namespace from numpy and matplotlib\n",
      "Imports done ...✈✈✈✈✈✈✈✈ You are free to go.\n"
     ]
    },
    {
     "name": "stderr",
     "output_type": "stream",
     "text": [
      "Using TensorFlow backend.\n"
     ]
    }
   ],
   "source": [
    "from __future__ import division\n",
    "from __future__ import print_function\n",
    "import pandas as pd\n",
    "%pylab inline\n",
    "import time\n",
    "import warnings\n",
    "import os\n",
    "from collections import Counter\n",
    "from itertools import chain\n",
    "import json\n",
    "import seaborn as sns\n",
    "import ast\n",
    "with warnings.catch_warnings():\n",
    "    warnings.filterwarnings(\"ignore\",category=DeprecationWarning)\n",
    "import sklearn.preprocessing\n",
    "\n",
    "print(\"Imports done ...✈✈✈✈✈✈✈✈ You are free to go.\")\n",
    "import keras\n",
    "from keras.layers import Activation,Dense\n",
    "from keras.models import Sequential\n",
    "import tensorflow as tf\n",
    "import six\n",
    "from sklearn.datasets import load_breast_cancer\n",
    "from mpl_toolkits.mplot3d import Axes3D\n",
    "from sklearn.linear_model import LogisticRegression"
   ]
  },
  {
   "cell_type": "code",
   "execution_count": 2,
   "metadata": {
    "collapsed": false
   },
   "outputs": [
    {
     "name": "stdout",
     "output_type": "stream",
     "text": [
      "./crowdsignals/chapter5_result.csv\n",
      "/home/cts/Desktop/ML4QS/Assignments/assignments_code_git/assignment2\n",
      "['chapter3_result_outliers.csv', 'chapter2_result.csv', 'chapter3_result_final.csv', 'chapter4_result.csv', '.~lock.chapter2_result.csv#', 'chapter5_result.csv']\n"
     ]
    }
   ],
   "source": [
    "dataset_folder = './crowdsignals'\n",
    "fname = 'chapter5_result.csv'\n",
    "dataset_path = os.path.join(dataset_folder,fname)\n",
    "print(dataset_path)\n",
    "print(os.getcwd())\n",
    "print(os.listdir(dataset_folder))"
   ]
  },
  {
   "cell_type": "markdown",
   "metadata": {},
   "source": [
    "#### Chapter 6.2\n",
    "Explore gradient descent and change the learning rate η. What happens to the trajectory of the gradient descent? Is a fast gradient descent always a good idea? (Hint: the answer is No!).\n",
    "\n",
    "\n",
    "------\n",
    "In most classification problems, the cost function we want to approximate is highly convex. So to approximate it fast we might need a large learning rate. However this can backfire as the error loss gets bouncing around the downhill slope toward the local minima. An example is illustrated in the picture below. Note that these images are an ideal case for illustrating how the learning rate affects the optimization of our cost function.\n",
    "\n",
    "<img src=\"sgd.png\">\n",
    "In addition we show a coding example on the crowdsignal data with a simple MLP implemented in keras to show how sgd learning rate affects training."
   ]
  },
  {
   "cell_type": "code",
   "execution_count": null,
   "metadata": {
    "collapsed": false
   },
   "outputs": [],
   "source": [
    "def mlp_model(D,nb_classes=10):\n",
    "    \n",
    "    model = Sequential()\n",
    "    input_shape = (D,)\n",
    "#     print(input_shape,' input dimensions')\n",
    "    layers = [\n",
    "        Dense(100,name='fc1',input_shape=input_shape),\n",
    "        Activation('tanh',name='fc1_act'),\n",
    "        Dense(20,name='fc2'),\n",
    "        Activation('tanh',name='fc2_act'),\n",
    "        Dense(nb_classes,name='fc_out'),\n",
    "        Activation('softmax',name='output')\n",
    "    ]\n",
    "    for layer in layers:\n",
    "#         print('Added layer:%s'%layer.name)\n",
    "        model.add(layer)\n",
    "\n",
    "    return model\n",
    "\n",
    "def batch_indices(batch_nb, data_length, batch_size):\n",
    "    \"\"\"\n",
    "    This helper function computes a batch start and end index\n",
    "    :param batch_nb: the batch number\n",
    "    :param data_length: the total length of the data being parsed by batches\n",
    "    :param batch_size: the number of inputs in each batch\n",
    "    :return: pair of (start, end) indices\n",
    "    \"\"\"\n",
    "    # Batch start and end index\n",
    "    start = int(batch_nb * batch_size)\n",
    "    end = int((batch_nb + 1) * batch_size)\n",
    "\n",
    "    # When there are not enough inputs left, we reuse some to complete the\n",
    "    # batch\n",
    "    if end > data_length:\n",
    "        shift = end - data_length\n",
    "        start -= shift\n",
    "        end -= shift\n",
    "\n",
    "    return start, end\n",
    "\n",
    "\n",
    "\n",
    "def model_eval(sess, x, y, model, X_test, Y_test, args=None):\n",
    "\n",
    "    \n",
    "    # Define accuracy symbolically\n",
    "    correct_preds = tf.equal(tf.argmax(y, axis=tf.rank(y) - 1),\n",
    "                                 tf.argmax(model, axis=tf.rank(model) - 1))\n",
    "    acc_value = tf.reduce_mean(tf.to_float(correct_preds))\n",
    "    \n",
    "    # Init result var\n",
    "    accuracy = 0.0\n",
    "    preds = np.zeros(Y_test.shape[0])\n",
    "    logits = np.zeros((Y_test.shape[0],2))\n",
    "    with sess.as_default():\n",
    "\n",
    "        nb_batches = int(math.ceil(float(len(X_test)) / args['batch_size']))\n",
    "\n",
    "        for batch in range(nb_batches):\n",
    "\n",
    "            start = batch * args['batch_size']\n",
    "            end = min(len(X_test), start + args['batch_size'])\n",
    "            cur_batch_size = end - start\n",
    "\n",
    "            cur_acc, cur_preds,cur_logits  = sess.run([acc_value, correct_preds,model],\n",
    "                                          feed_dict={x: X_test[start:end],\n",
    "                                                     y: Y_test[start:end]})\n",
    "            accuracy += (cur_batch_size * cur_acc)\n",
    "            preds[start:end, ] = cur_preds\n",
    "            logits[start:end,:] = cur_logits\n",
    "\n",
    "        # Divide by number of examples to get final value\n",
    "        accuracy /= len(X_test)\n",
    "\n",
    "    return accuracy, preds ,logits\n",
    "\n",
    "def model_train(sess, x, y, predictions, X_train, Y_train,args=None,verbose=True, init_all=True):\n",
    "    \n",
    "    loss = model_loss(y, predictions)\n",
    "    \n",
    "    train_step = tf.train.GradientDescentOptimizer(learning_rate=args['learning_rate']).minimize(loss)\n",
    "    losses = []\n",
    "    with sess.as_default():\n",
    "        if hasattr(tf, \"global_variables_initializer\"):\n",
    "            if init_all:\n",
    "                tf.global_variables_initializer().run()\n",
    "        prev = time.time()\n",
    "        \n",
    "        for epoch in six.moves.xrange(args['nb_epochs']):\n",
    "            \n",
    "            nb_batches = int(math.ceil(float(len(X_train)) / args['batch_size']))\n",
    "            epoch_loss = 0.0\n",
    "            for batch in range(nb_batches):\n",
    "                start, end = batch_indices(batch, len(X_train), args['batch_size'])\n",
    "                cur_loss,_ =  sess.run([loss,train_step],feed_dict={x: X_train[start:end],\n",
    "                                          y: Y_train[start:end]})\n",
    "                cur_loss /= args['batch_size']\n",
    "                epoch_loss += cur_loss\n",
    "            epoch_loss /= nb_batches\n",
    "            \n",
    "            if epoch % 100 == 0 and verbose:\n",
    "                \n",
    "                print(\"Epoch %d/%d took %s seconds,\\t average loss is :%e\"\n",
    "                        %(epoch+1,args['nb_epochs'], str(time.time() - prev),epoch_loss))\n",
    "                prev = time.time()\n",
    "                \n",
    "            losses.append(epoch_loss)\n",
    "        if verbose:\n",
    "            print(\"Epoch %d/%d \\t Final loss is %2.8f:\"\n",
    "              %(epoch+1,args['nb_epochs'],losses[-1]))\n",
    "    return losses\n",
    "                \n",
    "def model_loss(y, model, mean=True):\n",
    "\n",
    "    op = model.op\n",
    "    if \"softmax\" in str(op).lower():\n",
    "        logits, = op.inputs\n",
    "    else:\n",
    "        logits = model\n",
    "\n",
    "    out = tf.nn.softmax_cross_entropy_with_logits(logits=logits, labels=y)\n",
    "\n",
    "    if mean:\n",
    "        out = tf.reduce_mean(out)\n",
    "    return out\n",
    "\n",
    "def data_prepare(df_name):\n",
    "    \n",
    "    df = pd.read_csv(df_name,index_col=0)\n",
    "    x_columns = ['acc_phone_x','acc_phone_y','acc_phone_z',\n",
    "                 'acc_watch_x','acc_watch_y','acc_watch_z',\n",
    "                 'gyr_phone_x','gyr_phone_y','gyr_phone_z',\n",
    "                 'hr_watch_rate',\n",
    "                ]\n",
    "    y_columns = ['labelOnTable','labelSitting','labelWashingHands',\n",
    "                 'labelWalking','labelStanding','labelDriving',\n",
    "                 'labelEating','labelRunning'\n",
    "                ]\n",
    "    X = df[x_columns]\n",
    "    Y = df[y_columns]\n",
    "    return X,Y\n",
    "\n",
    "    \n",
    "   "
   ]
  },
  {
   "cell_type": "code",
   "execution_count": null,
   "metadata": {
    "collapsed": false
   },
   "outputs": [],
   "source": [
    "X,Y = data_prepare(dataset_path)\n",
    "\n",
    "keras.layers.core.K.set_learning_phase(0)\n",
    "keras.backend.manual_variable_initialization(True)\n",
    "# Set TF random seed to improve reproducibility\n",
    "tf.set_random_seed(42)\n",
    "\n",
    "sess = tf.Session()\n",
    "keras.backend.set_session(sess)\n",
    "classes = np.arange(Y.shape[1])\n",
    "D = (X.shape[1])\n",
    "x = tf.placeholder(tf.float32, shape=(None, D))\n",
    "y = tf.placeholder(tf.float32, shape=(None, len(classes)))\n",
    "print(\"Created TensorFlow session and set Keras backend.\")\n",
    "batch_size = 1024\n",
    "nb_epochs = 1000\n",
    "learning_rate = 1e-3\n",
    "train_params = { \n",
    "        'nb_epochs': nb_epochs,\n",
    "        'batch_size': batch_size,\n",
    "        'learning_rate': learning_rate\n",
    "    }\n",
    "\n",
    "print('Number of classes %d'%len(classes))\n",
    "\n",
    "model = mlp_model(D,nb_classes=len(classes))\n",
    "preds = model(x)\n",
    "losses1 = model_train(sess,x,y,preds,X,Y,args=train_params)\n",
    "learning_rate = 1\n",
    "train_params = { \n",
    "        'nb_epochs': nb_epochs,\n",
    "        'batch_size': batch_size,\n",
    "        'learning_rate': learning_rate\n",
    "    }\n",
    "losses2 = model_train(sess,x,y,preds,X,Y,args=train_params)\n"
   ]
  },
  {
   "cell_type": "code",
   "execution_count": null,
   "metadata": {
    "collapsed": false
   },
   "outputs": [],
   "source": [
    "rcParams['figure.figsize'] = (20,5)\n",
    "plt.plot(losses1);\n",
    "plt.title('Loss with learning rate 1e-3.',fontsize=20)\n",
    "plt.savefig('low_rate.png')\n",
    "plt.show()\n",
    "plt.plot(losses2,c='g');\n",
    "plt.title('Loss with learning rate 1.',fontsize=20)\n",
    "plt.savefig('high_rate.png')\n",
    "plt.show()\n"
   ]
  },
  {
   "cell_type": "markdown",
   "metadata": {},
   "source": [
    " From the above figures we can see the multiple oscillations the loss function does on the training set. Both training sessions where on an Multilayer perceptron with 2 hidden layers with 100 and 50 neurons respectively. Batch size was fixed at 1024 and epochs where 1000. Both models were trained on the crowdsignals dataset using \n",
    "sensors such as accelerometer (phone,watch),gyroscope and heart rate to predict the labels given."
   ]
  },
  {
   "cell_type": "markdown",
   "metadata": {},
   "source": [
    "## Chapter 6.3\n",
    "For answering this question we will be using scikit's breast cancer dataset https://archive.ics.uci.edu/ml/datasets/Breast+Cancer+Wisconsin+(Diagnostic"
   ]
  },
  {
   "cell_type": "code",
   "execution_count": null,
   "metadata": {
    "collapsed": false
   },
   "outputs": [],
   "source": [
    "def roc_curve(P):\n",
    "    roc_curve_points = []\n",
    "    N = P.shape[0]\n",
    "    pos = np.where(P[:,1]==1)[0].shape[0]\n",
    "    neg = N-pos\n",
    "    unique_probs = np.unique(P)\n",
    "    for p in unique_probs[::-1]:\n",
    "        P_select = np.where(P[:,0]>=p)[0]\n",
    "        neg_point = np.where(P[P_select,1]==0)[0].shape[0]/neg\n",
    "        pos_point = np.where(P[P_select,1]==1)[0].shape[0]/pos\n",
    "        point = [neg_point,pos_point]\n",
    "        roc_curve_points.append(point)\n",
    "    \n",
    "    return np.array(roc_curve_points)\n"
   ]
  },
  {
   "cell_type": "code",
   "execution_count": null,
   "metadata": {
    "collapsed": false
   },
   "outputs": [],
   "source": [
    "np.random.seed(42)\n",
    "tf.set_random_seed(42)\n",
    "data = load_breast_cancer()\n",
    "X = data.data\n",
    "Y = data.target\n",
    "sess = tf.Session()\n",
    "keras.backend.set_session(sess)\n",
    "YY = np.zeros((Y.shape[0],2))\n",
    "for i,v in enumerate(Y):\n",
    "    if v == 0:\n",
    "        YY[i,:] = [1,0]\n",
    "    else:\n",
    "        YY[i,:] = [0,1]\n",
    "Y = YY\n",
    "print(Y.shape)\n",
    "D = X.shape[1]\n",
    "classes =[0,1]\n",
    "x = tf.placeholder(tf.float32, shape=(None, D))\n",
    "y = tf.placeholder(tf.float32, shape=(None, len(classes)))\n",
    "print(\"Created TensorFlow session and set Keras backend.\")\n",
    "batch_size = 1024\n",
    "nb_epochs = 500\n",
    "learning_rate = 1e-3\n",
    "train_params = { \n",
    "        'nb_epochs': nb_epochs,\n",
    "        'batch_size': batch_size,\n",
    "        'learning_rate': learning_rate\n",
    "    }\n",
    "\n",
    "print('Number of classes %d'%len(classes))\n",
    "model = mlp_model(D,nb_classes=len(classes))\n",
    "preds = model(x)\n",
    "model_train(sess,x,y,preds,X,Y,args=train_params,verbose=True);\n"
   ]
  },
  {
   "cell_type": "code",
   "execution_count": null,
   "metadata": {
    "collapsed": false
   },
   "outputs": [],
   "source": [
    "acc,predictions,logits = model_eval(sess,x,y,preds,X,Y,args={'batch_size':batch_size})\n",
    "indices = logits[:,1] > logits[:,0]\n",
    "\n",
    "P = np.zeros((len(indices),2))\n",
    "P[:,0] = np.max(logits,axis=1)\n",
    "P[:,1] = np.argmax(logits,axis=1)"
   ]
  },
  {
   "cell_type": "code",
   "execution_count": null,
   "metadata": {
    "collapsed": false
   },
   "outputs": [],
   "source": [
    "roc_points = roc_curve(P)\n",
    "rcParams['figure.figsize'] = (20,10)\n",
    "plt.plot(roc_points)\n",
    "plt.legend(['negatives-benign','positives-malignant'],fontsize=20)\n",
    "plt.ylabel('True-positive rate',fontsize=20)\n",
    "plt.xlabel('False-positive rate',fontsize=20)\n",
    "plt.title('ROC Curveon breast cancer data with accuracy %.3f'%(acc*100),fontsize=20)\n",
    "plt.savefig('roc_curve.png')\n",
    "plt.show()"
   ]
  },
  {
   "cell_type": "markdown",
   "metadata": {},
   "source": [
    "# Chapter 6.4\n",
    "When having more features than data points, we are left with having a multiple (sometimes infinite) set of functions as a solution to the empirical risk minimization. This reduces our generalization for the data, causing us to overfit in the training set. In order to avoid this we need to introduce some constraints to our model. Such a constraint is often called regularization, wich introduces a new parameter to the error function so we can penalize the weights of the features in the data. Other models such as SVMs work by default with this parameter, through the introduction of lagrangian multipliers (more constraints). Other methods also for such occasions is by using Maximum Aposteriori methods, which are often used in Bayesian Learning (Penalized Maximum Likelihood). To show a simple example of how regularization affects we ...blah blah"
   ]
  },
  {
   "cell_type": "code",
   "execution_count": 174,
   "metadata": {
    "collapsed": false
   },
   "outputs": [
    {
     "name": "stdout",
     "output_type": "stream",
     "text": [
      "Train set size: 5 \tTest set size:12\n",
      "Dimensionality:1024\n"
     ]
    }
   ],
   "source": [
    "# X1 ~ N(X|0,1)\n",
    "X1 = np.random.rand(10,1024)\n",
    "Y1 = np.ones(X1.shape[0])\n",
    "# X2 ~ N(X|5,3.0)\n",
    "X2 = 5. + 3.0*np.random.randn(8,1024)\n",
    "Y2 = np.zeros(X2.shape[0])\n",
    "X = np.concatenate((X1,X2),axis=0)\n",
    "Y = np.concatenate((Y1,Y2),axis=0)\n",
    "Y = Y.astype(int)\n",
    "label = Y\n",
    "# YY = np.zeros((Y.shape[0],2))\n",
    "# for i,v in enumerate(Y):\n",
    "#     if v == 0:\n",
    "#         YY[i,:] = [1,0]\n",
    "#     else:\n",
    "#         YY[i,:] = [0,1]\n",
    "# Y = YY\n",
    "N,D = X.shape\n",
    "indices = np.arange(N)\n",
    "cutout = int(0.7 * len(indices))\n",
    "np.random.shuffle(indices)\n",
    "X_train = X[indices[cutout:-1]]\n",
    "Y_train = Y[indices[cutout:-1]]\n",
    "X_test  = X[indices[:cutout]]\n",
    "Y_test  = Y[indices[:cutout]]\n",
    "print('Train set size: %d \\tTest set size:%d'%(X_train.shape[0],X_test.shape[0]))\n",
    "print(\"Dimensionality:%d\"%(X_train.shape[1]))"
   ]
  },
  {
   "cell_type": "code",
   "execution_count": 186,
   "metadata": {
    "collapsed": false
   },
   "outputs": [],
   "source": [
    "accuracies  = []\n",
    "predictions = []\n",
    "N_trials = 100\n",
    "for i in range(N_trials):\n",
    "    clf = LogisticRegression('l1')\n",
    "    clf.fit(X_train,Y_train)\n",
    "    Y_preds = clf.predict_proba(X_test)\n",
    "    correct = np.argmax(Y_preds,axis=1) == Y_test\n",
    "    acc = np.sum(correct)/correct.shape[0]\n",
    "    accuracies.append(acc)\n",
    "    predictions.append(Y_preds)\n"
   ]
  },
  {
   "cell_type": "code",
   "execution_count": 197,
   "metadata": {
    "collapsed": false
   },
   "outputs": [
    {
     "data": {
      "image/png": "[encoded data removed]",
      "text/plain": [
       "<matplotlib.figure.Figure at 0x7f4e6010df90>"
      ]
     },
     "metadata": {},
     "output_type": "display_data"
    }
   ],
   "source": [
    "for i in range(10):\n",
    "    pred = np.max(predictions[i],axis=1)\n",
    "    plt.plot(pred)\n",
    "    \n",
    "leg = ['Trial:%d-acc:%.2f'%(i,accuracies[i]) for i in range(N_trials) ]\n",
    "plt.legend(leg)\n",
    "plt.show()"
   ]
  },
  {
   "cell_type": "code",
   "execution_count": null,
   "metadata": {
    "collapsed": true
   },
   "outputs": [],
   "source": []
  },
  {
   "cell_type": "code",
   "execution_count": null,
   "metadata": {
    "collapsed": true
   },
   "outputs": [],
   "source": []
  }
 ],
 "metadata": {
  "kernelspec": {
   "display_name": "Python 2",
   "language": "python",
   "name": "python2"
  },
  "language_info": {
   "codemirror_mode": {
    "name": "ipython",
    "version": 2
   },
   "file_extension": ".py",
   "mimetype": "text/x-python",
   "name": "python",
   "nbconvert_exporter": "python",
   "pygments_lexer": "ipython2",
   "version": "2.7.13"
  }
 },
 "nbformat": 4,
 "nbformat_minor": 2
}

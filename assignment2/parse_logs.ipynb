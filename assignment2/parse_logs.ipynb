{
 "cells": [
  {
   "cell_type": "code",
   "execution_count": 5,
   "metadata": {
    "collapsed": false
   },
   "outputs": [
    {
     "name": "stdout",
     "output_type": "stream",
     "text": [
      "Populating the interactive namespace from numpy and matplotlib\n",
      "Imports done ...✈✈✈✈✈✈✈✈ You are free to go.\n"
     ]
    }
   ],
   "source": [
    "### Chapter 7: compulsory: 3 and 5 and select one of these two sets: {1} or {2}\n",
    "from __future__ import division\n",
    "from __future__ import print_function\n",
    "import pandas as pd\n",
    "%pylab inline\n",
    "import time\n",
    "import warnings\n",
    "import os\n",
    "from collections import Counter\n",
    "from itertools import chain\n",
    "import json\n",
    "import seaborn as sns\n",
    "import ast\n",
    "from itertools import izip\n",
    "\n",
    "with warnings.catch_warnings():\n",
    "    warnings.filterwarnings(\"ignore\",category=DeprecationWarning)\n",
    "import sklearn.preprocessing\n",
    "\n",
    "print(\"Imports done ...✈✈✈✈✈✈✈✈ You are free to go.\")\n",
    "\n",
    "import six\n"
   ]
  },
  {
   "cell_type": "code",
   "execution_count": 6,
   "metadata": {
    "collapsed": true
   },
   "outputs": [],
   "source": [
    "def pairwise(iterable):\n",
    "    \"s -> (s0, s1), (s2, s3), (s4, s5), ...\"\n",
    "    a = iter(iterable)\n",
    "    return izip(a, a)\n",
    "\n",
    "def get_labels(fname):\n",
    "    label_mappings = {}\n",
    "    with open(fname,'r+') as f:\n",
    "        for line in f.readlines():\n",
    "            line = line.rstrip().lower()\n",
    "            \n",
    "            splitted = line.split('|')\n",
    "            splitted = [x.strip().rstrip().lower() for x in splitted]\n",
    "            if len(splitted) == 2:\n",
    "                if splitted[1] =='label':\n",
    "                    continue\n",
    "                label = int(splitted[0])\n",
    "                name = splitted[1].rstrip().lower()\n",
    "                if name  not in label_mappings.keys():\n",
    "                    label_mappings[name] = []\n",
    "                    label_mappings[name].append(label)\n",
    "                else:\n",
    "                    label_mappings[name].append(label)\n",
    "            else:\n",
    "                break\n",
    "    return label_mappings\n",
    "                \n",
    "\n",
    "\n",
    "\n",
    "\n",
    "def generate_labels(header=['sensor_type','device','label','label_start','datetime_start','label_end','datetime_end'],\n",
    "                    fname='./ml4qsbeasts/log_events',log_fname='./ml4qsbeasts/new_log',fout='./ml4qsbeasts/labels.csv'):\n",
    "    \n",
    "    label_mapping = get_labels(log_fname)\n",
    "    labels_list = []\n",
    "    lines_list = []\n",
    "    with open(fname,'r+') as f:\n",
    "        for line in f.readlines():\n",
    "            lines_list.append(line)\n",
    "    \n",
    "    for line,line2 in pairwise(lines_list):\n",
    " \n",
    "        splitted = line.split('|')\n",
    "        splitted = [x.rstrip().lower() for x in splitted]\n",
    "        label,_,_,time_start = splitted\n",
    "\n",
    "        splitted = line2.split('|')\n",
    "        splitted = [x.rstrip().lower() for x in splitted]\n",
    "        label,_,_,time_end = splitted\n",
    "        for k in label_mapping.keys():\n",
    "            if int(label) in label_mapping[k]:\n",
    "                key = k\n",
    "        \n",
    "        labels_list.append(['interval_label','tommie smartphone',\n",
    "                              key,time_start,pd.to_datetime(time_start,unit='ms'),\n",
    "                            time_end,pd.to_datetime(time_end,unit='ms')])\n",
    "        \n",
    "    \n",
    "    with open(fout,'w+') as f:\n",
    "        f.write(','.join([str(x) for x in header])+'\\n')\n",
    "        for line in labels_list:\n",
    "            line = ','.join([str(x) for x in line])\n",
    "            f.write(line+'\\n')\n",
    "    return labels_list\n",
    "\n",
    "            \n",
    "def get_sensor_values(fname,device='log1'):\n",
    "    '''Get sensor values function. Parses the .txt log and puts all sensors in a csv\n",
    "        args:\n",
    "            fname the filename of the sensor log\n",
    "        \n",
    "        output:\n",
    "            sensor_dict a dictionary where the keys are the sensors and the values are label-vector-timestamp\n",
    "    '''\n",
    "    sensor_dict = {}\n",
    "    device = fname.split('/')[len(fname.split('/'))-1]\n",
    "    labels_dict = {}\n",
    "    label_names = get_labels(fname)\n",
    "    print(label_names)\n",
    "    with open(fname,'r+') as f:\n",
    "        for line in f.readlines():\n",
    "            splitted = line.split('|')\n",
    "            if len(splitted) != 4:\n",
    "                #in case we are before our data to avoid parsing errors\n",
    "                continue\n",
    "            splitted = [x.rstrip().lower() for x in splitted]\n",
    "            label_id,sensorname,vector,timestamp = splitted\n",
    "            if sensorname == 'sensorname':\n",
    "                continue\n",
    "            if sensorname not in sensor_dict.keys():\n",
    "                sensor_dict[sensorname] = []\n",
    "            else:\n",
    "                tmp_list = sensor_dict.get(sensorname)\n",
    "                tmp_list.append([label_id,vector,timestamp])\n",
    "                sensor_dict[sensorname] = tmp_list\n",
    "            \n",
    "            \n",
    "    return sensor_dict"
   ]
  },
  {
   "cell_type": "code",
   "execution_count": 7,
   "metadata": {
    "collapsed": false
   },
   "outputs": [
    {
     "name": "stdout",
     "output_type": "stream",
     "text": [
      "./ml4qsbeasts/new_log\n",
      "/home/cts/Desktop/ML4QS/Assignments/assignments_code_git/assignment2\n"
     ]
    }
   ],
   "source": [
    "dataset_folder = './ml4qsbeasts/'\n",
    "fname = 'new_log'\n",
    "dataset_path = os.path.join(dataset_folder,fname)\n"
   ]
  },
  {
   "cell_type": "code",
   "execution_count": 8,
   "metadata": {
    "collapsed": false
   },
   "outputs": [
    {
     "name": "stdout",
     "output_type": "stream",
     "text": [
      "{'standing': [6, 11], 'walking': [9, 12], 'sitting': [10, 13], 'stairsdown': [4, 7], 'stairsup': [5, 8], 'ondesk': [14]}\n"
     ]
    },
    {
     "data": {
      "text/plain": [
       "[['interval_label',\n",
       "  'tommie smartphone',\n",
       "  'stairsdown',\n",
       "  '1498010210795',\n",
       "  Timestamp('2017-06-21 01:56:50.795000'),\n",
       "  '1498010250904',\n",
       "  Timestamp('2017-06-21 01:57:30.904000')],\n",
       " ['interval_label',\n",
       "  'tommie smartphone',\n",
       "  'stairsup',\n",
       "  '1498010251062',\n",
       "  Timestamp('2017-06-21 01:57:31.062000'),\n",
       "  '1498010297381',\n",
       "  Timestamp('2017-06-21 01:58:17.381000')],\n",
       " ['interval_label',\n",
       "  'tommie smartphone',\n",
       "  'standing',\n",
       "  '1498010297414',\n",
       "  Timestamp('2017-06-21 01:58:17.414000'),\n",
       "  '1498010337044',\n",
       "  Timestamp('2017-06-21 01:58:57.044000')],\n",
       " ['interval_label',\n",
       "  'tommie smartphone',\n",
       "  'stairsdown',\n",
       "  '1498010337074',\n",
       "  Timestamp('2017-06-21 01:58:57.074000'),\n",
       "  '1498010376387',\n",
       "  Timestamp('2017-06-21 01:59:36.387000')],\n",
       " ['interval_label',\n",
       "  'tommie smartphone',\n",
       "  'stairsup',\n",
       "  '1498010376422',\n",
       "  Timestamp('2017-06-21 01:59:36.422000'),\n",
       "  '1498010422415',\n",
       "  Timestamp('2017-06-21 02:00:22.415000')],\n",
       " ['interval_label',\n",
       "  'tommie smartphone',\n",
       "  'walking',\n",
       "  '1498010422433',\n",
       "  Timestamp('2017-06-21 02:00:22.433000'),\n",
       "  '1498010497766',\n",
       "  Timestamp('2017-06-21 02:01:37.766000')],\n",
       " ['interval_label',\n",
       "  'tommie smartphone',\n",
       "  'sitting',\n",
       "  '1498010497798',\n",
       "  Timestamp('2017-06-21 02:01:37.798000'),\n",
       "  '1498010499927',\n",
       "  Timestamp('2017-06-21 02:01:39.927000')],\n",
       " ['interval_label',\n",
       "  'tommie smartphone',\n",
       "  'standing',\n",
       "  '1498010499954',\n",
       "  Timestamp('2017-06-21 02:01:39.954000'),\n",
       "  '1498010554697',\n",
       "  Timestamp('2017-06-21 02:02:34.697000')],\n",
       " ['interval_label',\n",
       "  'tommie smartphone',\n",
       "  'walking',\n",
       "  '1498010554718',\n",
       "  Timestamp('2017-06-21 02:02:34.718000'),\n",
       "  '1498010591899',\n",
       "  Timestamp('2017-06-21 02:03:11.899000')],\n",
       " ['interval_label',\n",
       "  'tommie smartphone',\n",
       "  'sitting',\n",
       "  '1498010591925',\n",
       "  Timestamp('2017-06-21 02:03:11.925000'),\n",
       "  '1498010646712',\n",
       "  Timestamp('2017-06-21 02:04:06.712000')],\n",
       " ['interval_label',\n",
       "  'tommie smartphone',\n",
       "  'ondesk',\n",
       "  '1498010646738',\n",
       "  Timestamp('2017-06-21 02:04:06.738000'),\n",
       "  '1498010707220',\n",
       "  Timestamp('2017-06-21 02:05:07.220000')]]"
      ]
     },
     "execution_count": 8,
     "metadata": {},
     "output_type": "execute_result"
    }
   ],
   "source": [
    "sensor_dict = get_sensor_values(dataset_path,device='tommie_device')\n",
    "generate_csv(sensor_dict['bmi160 accelerometer'],header=['x,y,z','timestamp'],fname='tmp_acce.csv')\n",
    "generate_labels()"
   ]
  },
  {
   "cell_type": "markdown",
   "metadata": {},
   "source": [
    "# Chapter 7.3\n",
    "In our example, we use the same methods, but on a classification task with the same labels as the crowdsignal dataset."
   ]
  },
  {
   "cell_type": "code",
   "execution_count": 9,
   "metadata": {
    "collapsed": false
   },
   "outputs": [
    {
     "ename": "NameError",
     "evalue": "name 'dd' is not defined",
     "output_type": "error",
     "traceback": [
      "\u001b[0;31m---------------------------------------------------------------------------\u001b[0m",
      "\u001b[0;31mNameError\u001b[0m                                 Traceback (most recent call last)",
      "\u001b[0;32m<ipython-input-9-54384c92ba9f>\u001b[0m in \u001b[0;36m<module>\u001b[0;34m()\u001b[0m\n\u001b[0;32m----> 1\u001b[0;31m \u001b[0;32mprint\u001b[0m\u001b[0;34m(\u001b[0m\u001b[0mlen\u001b[0m\u001b[0;34m(\u001b[0m\u001b[0mdd\u001b[0m\u001b[0;34m)\u001b[0m\u001b[0;34m)\u001b[0m\u001b[0;34m\u001b[0m\u001b[0m\n\u001b[0m",
      "\u001b[0;31mNameError\u001b[0m: name 'dd' is not defined"
     ]
    }
   ],
   "source": [
    "print(len(dd))"
   ]
  },
  {
   "cell_type": "code",
   "execution_count": null,
   "metadata": {
    "collapsed": true
   },
   "outputs": [],
   "source": []
  }
 ],
 "metadata": {
  "kernelspec": {
   "display_name": "Python 2",
   "language": "python",
   "name": "python2"
  },
  "language_info": {
   "codemirror_mode": {
    "name": "ipython",
    "version": 2
   },
   "file_extension": ".py",
   "mimetype": "text/x-python",
   "name": "python",
   "nbconvert_exporter": "python",
   "pygments_lexer": "ipython2",
   "version": "2.7.13"
  }
 },
 "nbformat": 4,
 "nbformat_minor": 2
}

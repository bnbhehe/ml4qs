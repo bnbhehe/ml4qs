{
 "cells": [
  {
   "cell_type": "code",
   "execution_count": 22,
   "metadata": {
    "collapsed": false
   },
   "outputs": [
    {
     "name": "stdout",
     "output_type": "stream",
     "text": [
      "Populating the interactive namespace from numpy and matplotlib\n",
      "Imports done ...✈✈✈✈✈✈✈✈ You are free to go.\n"
     ]
    }
   ],
   "source": [
    "### Chapter 7: compulsory: 3 and 5 and select one of these two sets: {1} or {2}\n",
    "from __future__ import division\n",
    "from __future__ import print_function\n",
    "import pandas as pd\n",
    "%pylab inline\n",
    "import time\n",
    "import warnings\n",
    "import os\n",
    "from collections import Counter\n",
    "from itertools import chain\n",
    "import json\n",
    "import seaborn as sns\n",
    "import ast\n",
    "with warnings.catch_warnings():\n",
    "    warnings.filterwarnings(\"ignore\",category=DeprecationWarning)\n",
    "import sklearn.preprocessing\n",
    "\n",
    "print(\"Imports done ...✈✈✈✈✈✈✈✈ You are free to go.\")\n",
    "\n",
    "import six\n",
    "from sklearn.datasets import load_breast_cancer\n",
    "from parser import generate_labels,get_sensor_values,get_labels"
   ]
  },
  {
   "cell_type": "code",
   "execution_count": 115,
   "metadata": {
    "collapsed": false
   },
   "outputs": [
    {
     "name": "stdout",
     "output_type": "stream",
     "text": [
      "./ml4qsbeasts/new_log\n",
      "/home/cts/Desktop/ML4QS/Assignments/assignments_code_git/assignment2\n"
     ]
    }
   ],
   "source": [
    "dataset_folder = './ml4qsbeasts/'\n",
    "fname = 'new_log'\n",
    "dataset_path = os.path.join(dataset_folder,fname)\n",
    "print(dataset_path)\n",
    "print(os.getcwd())\n",
    "from itertools import izip\n",
    "\n",
    "def pairwise(iterable):\n",
    "    \"s -> (s0, s1), (s2, s3), (s4, s5), ...\"\n",
    "    a = iter(iterable)\n",
    "    return izip(a, a)"
   ]
  },
  {
   "cell_type": "code",
   "execution_count": 120,
   "metadata": {
    "collapsed": false
   },
   "outputs": [],
   "source": [
    "\n",
    "def generate_labels2(header=['sensor_type','device','label','label_start','label_end'],\n",
    "                    fname='./ml4qsbeasts/log_events',label_fname='./ml4qsbeasts/new_log',fout='./ml4qsbeasts/labels.csv'):\n",
    "    label_mapping = get_labels(label_fname)\n",
    "    labels_list = []\n",
    "    print(label_mapping)\n",
    "    lines_list = []\n",
    "    with open(fname,'r+') as f:\n",
    "        for line in f.readlines():\n",
    "            lines_list.append(line)\n",
    "    \n",
    "    for line,line2 in pairwise(lines_list):\n",
    " \n",
    "        splitted = line.split('|')\n",
    "        splitted = [x.rstrip().lower() for x in splitted]\n",
    "        label,_,_,time_start = splitted\n",
    "\n",
    "        splitted = line2.split('|')\n",
    "        splitted = [x.rstrip().lower() for x in splitted]\n",
    "        label,_,_,time_end = splitted\n",
    "        for k in label_mapping.keys():\n",
    "            if int(label) in label_mapping[k]:\n",
    "                key = k\n",
    "        \n",
    "        labels_list.append(['interval_label','tommie smartphone',\n",
    "                              key,time_start,pd.to_datetime(time_start,unit='ms'),\n",
    "                            time_end,pd.to_datetime(time_end,unit='ms')])\n",
    "    return labels_list\n",
    "\n",
    "\n"
   ]
  },
  {
   "cell_type": "code",
   "execution_count": 103,
   "metadata": {
    "collapsed": false
   },
   "outputs": [
    {
     "name": "stdout",
     "output_type": "stream",
     "text": [
      "The device is new_log\n",
      "('got here?', 7)\n",
      "('got here?', 8)\n",
      "('got here?', 11)\n",
      "('got here?', 12)\n",
      "('got here?', 13)\n",
      "{'standing': [6, 11], 'walking': [9, 12], 'sitting': [10, 13], 'stairsdown': [4, 7], 'stairsup': [5, 8], 'ondesk': [14]}\n"
     ]
    }
   ],
   "source": [
    "# labels = get_labels(dataset_path)\n",
    "# print(json.dumps(labels,indent=2))\n",
    "\n",
    "sensor_dict = get_sensor_values2(dataset_path,device='log2')\n"
   ]
  },
  {
   "cell_type": "markdown",
   "metadata": {},
   "source": [
    "# Chapter 7.3\n",
    "In our example, we use the same methods, but on a classification task with the same labels as the crowdsignal dataset."
   ]
  },
  {
   "cell_type": "code",
   "execution_count": 111,
   "metadata": {
    "collapsed": false
   },
   "outputs": [],
   "source": [
    "generate_csv2(sensor_dict['bmi160 accelerometer'],header=['x,y,z','timestamp'],fname='tmp_acce.csv')"
   ]
  },
  {
   "cell_type": "code",
   "execution_count": 121,
   "metadata": {
    "collapsed": false
   },
   "outputs": [
    {
     "name": "stdout",
     "output_type": "stream",
     "text": [
      "('got here?', 7)\n",
      "('got here?', 8)\n",
      "('got here?', 11)\n",
      "('got here?', 12)\n",
      "('got here?', 13)\n",
      "{'standing': [6, 11], 'walking': [9, 12], 'sitting': [10, 13], 'stairsdown': [4, 7], 'stairsup': [5, 8], 'ondesk': [14]}\n"
     ]
    },
    {
     "ename": "NameError",
     "evalue": "global name 'i' is not defined",
     "output_type": "error",
     "traceback": [
      "\u001b[0;31m---------------------------------------------------------------------------\u001b[0m",
      "\u001b[0;31mNameError\u001b[0m                                 Traceback (most recent call last)",
      "\u001b[0;32m<ipython-input-121-2a91cf959dba>\u001b[0m in \u001b[0;36m<module>\u001b[0;34m()\u001b[0m\n\u001b[0;32m----> 1\u001b[0;31m \u001b[0mdd\u001b[0m \u001b[0;34m=\u001b[0m \u001b[0mgenerate_labels2\u001b[0m\u001b[0;34m(\u001b[0m\u001b[0;34m)\u001b[0m\u001b[0;34m\u001b[0m\u001b[0m\n\u001b[0m\u001b[1;32m      2\u001b[0m \u001b[0;32mprint\u001b[0m\u001b[0;34m(\u001b[0m\u001b[0mdd\u001b[0m\u001b[0;34m)\u001b[0m\u001b[0;34m\u001b[0m\u001b[0m\n",
      "\u001b[0;32m<ipython-input-120-6f57b130b533>\u001b[0m in \u001b[0;36mgenerate_labels2\u001b[0;34m(header, fname, label_fname, fout)\u001b[0m\n\u001b[1;32m     26\u001b[0m                               \u001b[0mkey\u001b[0m\u001b[0;34m,\u001b[0m\u001b[0mtime_start\u001b[0m\u001b[0;34m,\u001b[0m\u001b[0mpd\u001b[0m\u001b[0;34m.\u001b[0m\u001b[0mto_datetime\u001b[0m\u001b[0;34m(\u001b[0m\u001b[0mtime_start\u001b[0m\u001b[0;34m,\u001b[0m\u001b[0munit\u001b[0m\u001b[0;34m=\u001b[0m\u001b[0;34m'ms'\u001b[0m\u001b[0;34m)\u001b[0m\u001b[0;34m,\u001b[0m\u001b[0;34m\u001b[0m\u001b[0m\n\u001b[1;32m     27\u001b[0m                             time_end,pd.to_datetime(time_end,unit='ms')])\n\u001b[0;32m---> 28\u001b[0;31m         \u001b[0mi\u001b[0m\u001b[0;34m+\u001b[0m\u001b[0;36m2\u001b[0m\u001b[0;34m\u001b[0m\u001b[0m\n\u001b[0m\u001b[1;32m     29\u001b[0m     \u001b[0;32mreturn\u001b[0m \u001b[0mlabels_list\u001b[0m\u001b[0;34m\u001b[0m\u001b[0m\n\u001b[1;32m     30\u001b[0m \u001b[0;34m\u001b[0m\u001b[0m\n",
      "\u001b[0;31mNameError\u001b[0m: global name 'i' is not defined"
     ]
    }
   ],
   "source": [
    "dd = generate_labels2()\n",
    "print(dd)"
   ]
  },
  {
   "cell_type": "code",
   "execution_count": 114,
   "metadata": {
    "collapsed": false
   },
   "outputs": [
    {
     "name": "stdout",
     "output_type": "stream",
     "text": [
      "[['interval_label', 'tommie smartphone', 'stairsdown', '1498010210795', Timestamp('2017-06-21 01:56:50.795000'), '1498010250904', Timestamp('2017-06-21 01:57:30.904000')], ['interval_label', 'tommie smartphone', 'stairsup', '1498010250904', Timestamp('2017-06-21 01:57:30.904000'), '1498010251062', Timestamp('2017-06-21 01:57:31.062000')], ['interval_label', 'tommie smartphone', 'stairsup', '1498010251062', Timestamp('2017-06-21 01:57:31.062000'), '1498010297381', Timestamp('2017-06-21 01:58:17.381000')], ['interval_label', 'tommie smartphone', 'standing', '1498010297381', Timestamp('2017-06-21 01:58:17.381000'), '1498010297414', Timestamp('2017-06-21 01:58:17.414000')], ['interval_label', 'tommie smartphone', 'standing', '1498010297414', Timestamp('2017-06-21 01:58:17.414000'), '1498010337044', Timestamp('2017-06-21 01:58:57.044000')], ['interval_label', 'tommie smartphone', 'stairsdown', '1498010337044', Timestamp('2017-06-21 01:58:57.044000'), '1498010337074', Timestamp('2017-06-21 01:58:57.074000')], ['interval_label', 'tommie smartphone', 'stairsdown', '1498010337074', Timestamp('2017-06-21 01:58:57.074000'), '1498010376387', Timestamp('2017-06-21 01:59:36.387000')], ['interval_label', 'tommie smartphone', 'stairsup', '1498010376387', Timestamp('2017-06-21 01:59:36.387000'), '1498010376422', Timestamp('2017-06-21 01:59:36.422000')], ['interval_label', 'tommie smartphone', 'stairsup', '1498010376422', Timestamp('2017-06-21 01:59:36.422000'), '1498010422415', Timestamp('2017-06-21 02:00:22.415000')], ['interval_label', 'tommie smartphone', 'walking', '1498010422415', Timestamp('2017-06-21 02:00:22.415000'), '1498010422433', Timestamp('2017-06-21 02:00:22.433000')], ['interval_label', 'tommie smartphone', 'walking', '1498010422433', Timestamp('2017-06-21 02:00:22.433000'), '1498010497766', Timestamp('2017-06-21 02:01:37.766000')], ['interval_label', 'tommie smartphone', 'sitting', '1498010497766', Timestamp('2017-06-21 02:01:37.766000'), '1498010497798', Timestamp('2017-06-21 02:01:37.798000')], ['interval_label', 'tommie smartphone', 'sitting', '1498010497798', Timestamp('2017-06-21 02:01:37.798000'), '1498010499927', Timestamp('2017-06-21 02:01:39.927000')], ['interval_label', 'tommie smartphone', 'standing', '1498010499927', Timestamp('2017-06-21 02:01:39.927000'), '1498010499954', Timestamp('2017-06-21 02:01:39.954000')], ['interval_label', 'tommie smartphone', 'standing', '1498010499954', Timestamp('2017-06-21 02:01:39.954000'), '1498010554697', Timestamp('2017-06-21 02:02:34.697000')], ['interval_label', 'tommie smartphone', 'walking', '1498010554697', Timestamp('2017-06-21 02:02:34.697000'), '1498010554718', Timestamp('2017-06-21 02:02:34.718000')], ['interval_label', 'tommie smartphone', 'walking', '1498010554718', Timestamp('2017-06-21 02:02:34.718000'), '1498010591899', Timestamp('2017-06-21 02:03:11.899000')], ['interval_label', 'tommie smartphone', 'sitting', '1498010591899', Timestamp('2017-06-21 02:03:11.899000'), '1498010591925', Timestamp('2017-06-21 02:03:11.925000')], ['interval_label', 'tommie smartphone', 'sitting', '1498010591925', Timestamp('2017-06-21 02:03:11.925000'), '1498010646712', Timestamp('2017-06-21 02:04:06.712000')], ['interval_label', 'tommie smartphone', 'ondesk', '1498010646712', Timestamp('2017-06-21 02:04:06.712000'), '1498010646738', Timestamp('2017-06-21 02:04:06.738000')]]\n"
     ]
    }
   ],
   "source": [
    "print(dd)"
   ]
  },
  {
   "cell_type": "code",
   "execution_count": 113,
   "metadata": {
    "collapsed": false
   },
   "outputs": [
    {
     "name": "stdout",
     "output_type": "stream",
     "text": [
      "20\n"
     ]
    }
   ],
   "source": [
    "print(len(dd))"
   ]
  },
  {
   "cell_type": "code",
   "execution_count": null,
   "metadata": {
    "collapsed": true
   },
   "outputs": [],
   "source": []
  }
 ],
 "metadata": {
  "kernelspec": {
   "display_name": "Python 2",
   "language": "python",
   "name": "python2"
  },
  "language_info": {
   "codemirror_mode": {
    "name": "ipython",
    "version": 2
   },
   "file_extension": ".py",
   "mimetype": "text/x-python",
   "name": "python",
   "nbconvert_exporter": "python",
   "pygments_lexer": "ipython2",
   "version": "2.7.13"
  }
 },
 "nbformat": 4,
 "nbformat_minor": 2
}

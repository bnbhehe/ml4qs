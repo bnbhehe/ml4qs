{
 "cells": [
  {
   "cell_type": "code",
   "execution_count": 1,
   "metadata": {
    "collapsed": false
   },
   "outputs": [
    {
     "name": "stdout",
     "output_type": "stream",
     "text": [
      "Populating the interactive namespace from numpy and matplotlib\n"
     ]
    }
   ],
   "source": [
    "from __future__ import absolute_import\n",
    "from __future__ import division\n",
    "from __future__ import print_function\n",
    "%pylab inline\n",
    "import pandas as pd\n",
    "import json\n",
    "import seaborn\n",
    "import copy\n",
    "import os\n",
    "from Chapter2.CreateDataset import CreateDataset\n",
    "from util.VisualizeDataset import VisualizeDataset\n",
    "from Chapter3.OutlierDetection import DistributionBasedOutlierDetection\n",
    "from Chapter3.OutlierDetection import DistanceBasedOutlierDetection\n",
    "from util.VisualizeDataset import VisualizeDataset\n",
    "from util import util\n",
    "from util.parser import get_labels,generate_csv,generate_labels,get_sensor_values\n",
    "import time"
   ]
  },
  {
   "cell_type": "markdown",
   "metadata": {},
   "source": [
    "# Below cell has global variables (path-names mostly)"
   ]
  },
  {
   "cell_type": "code",
   "execution_count": 2,
   "metadata": {
    "collapsed": false
   },
   "outputs": [
    {
     "name": "stdout",
     "output_type": "stream",
     "text": [
      "['log_assignment2', 'csv', 'log_events_assignment2']\n"
     ]
    }
   ],
   "source": [
    "dataset_folder = './datasets'\n",
    "files = os.listdir(dataset_folder)\n",
    "print(files)\n",
    "dataset_fname  = 'log_assignment2'\n",
    "event_fname = 'log_events_assignment2'\n",
    "result_dataset_path = './intermediate_datafiles/'\n",
    "csv_dataset_path = os.path.join(dataset_folder,'csv/')\n",
    "dataset_path = os.path.join(dataset_folder,dataset_fname)\n",
    "event_path = os.path.join(dataset_folder,event_fname)\n",
    "output_fname = 'dataset.csv'"
   ]
  },
  {
   "cell_type": "code",
   "execution_count": 3,
   "metadata": {
    "collapsed": false
   },
   "outputs": [],
   "source": [
    "if not os.path.exists(result_dataset_path):\n",
    "    print('Creating result directory: ' + result_dataset_path)\n",
    "    os.makedirs(result_dataset_path)\n",
    "if not os.path.exists(csv_dataset_path):\n",
    "    print('Creating result directory: ' + csv_dataset_path)\n",
    "    os.makedirs(csv_dataset_path)"
   ]
  },
  {
   "cell_type": "markdown",
   "metadata": {},
   "source": [
    "### LOG PARSING FUNCTION CALL"
   ]
  },
  {
   "cell_type": "code",
   "execution_count": 4,
   "metadata": {
    "collapsed": false
   },
   "outputs": [
    {
     "name": "stdout",
     "output_type": "stream",
     "text": [
      "Label Mappings:\n",
      "\n",
      "{\n",
      "  \"standing\": [\n",
      "    6, \n",
      "    11\n",
      "  ], \n",
      "  \"walking\": [\n",
      "    9, \n",
      "    12\n",
      "  ], \n",
      "  \"sitting\": [\n",
      "    10, \n",
      "    13\n",
      "  ], \n",
      "  \"stairsdown\": [\n",
      "    4, \n",
      "    7\n",
      "  ], \n",
      "  \"stairsup\": [\n",
      "    5, \n",
      "    8\n",
      "  ], \n",
      "  \"ondesk\": [\n",
      "    14\n",
      "  ]\n",
      "}\n"
     ]
    }
   ],
   "source": [
    "labels = get_labels(dataset_path)\n",
    "print('Label Mappings:\\n')\n",
    "print(json.dumps(labels,indent=2))\n"
   ]
  },
  {
   "cell_type": "code",
   "execution_count": 5,
   "metadata": {
    "collapsed": false
   },
   "outputs": [
    {
     "name": "stdout",
     "output_type": "stream",
     "text": [
      "Sensors in log file\n",
      "[\n",
      "  \"bmi160 accelerometer\", \n",
      "  \"bmi160 gyroscope\", \n",
      "  \"rotation vector\"\n",
      "]\n"
     ]
    }
   ],
   "source": [
    "sensors_dict = get_sensor_values(dataset_path)\n",
    "print('Sensors in log file')\n",
    "sensors = sensors_dict.keys()\n",
    "print(json.dumps(sensors,indent=2))"
   ]
  },
  {
   "cell_type": "markdown",
   "metadata": {},
   "source": [
    "# CSV generation cell"
   ]
  },
  {
   "cell_type": "code",
   "execution_count": 6,
   "metadata": {
    "collapsed": false
   },
   "outputs": [],
   "source": [
    "for sensor in sensors:\n",
    "    if sensor == 'rotation vector':\n",
    "        generate_csv(sensors_dict[sensor],\n",
    "                     header=['x','y','z','theta','phi','timestamp'],\n",
    "                     fname = os.path.join(csv_dataset_path,sensor+'.csv'))\n",
    "    else:\n",
    "        generate_csv(sensors_dict[sensor],fname = os.path.join(csv_dataset_path,sensor+'.csv'))\n",
    "generate_labels(fname=event_path,log_fname=dataset_path,fout=csv_dataset_path+'labels.csv');"
   ]
  },
  {
   "cell_type": "markdown",
   "metadata": {},
   "source": [
    "# Dataset creation cell"
   ]
  },
  {
   "cell_type": "code",
   "execution_count": 7,
   "metadata": {
    "collapsed": false
   },
   "outputs": [
    {
     "name": "stdout",
     "output_type": "stream",
     "text": [
      "granularity is 250\n",
      "Added all sensors and labels\n",
      "column, fraction missing values, mean, standard deviation, min, max\n",
      "acc_phone_x 0.0 0.185005939108 2.48987759313 -18.0726423578 6.891261836\n",
      "acc_phone_y 0.0 -5.88111799199 5.11717281338 -13.425761535 8.986544725\n",
      "acc_phone_z 0.0 -0.569648007234 5.20594367933 -9.574162873 10.9625739673\n",
      "gyr_phone_x 0.0 0.0141690943843 0.741816608943 -2.458012121 2.77486537778\n",
      "gyr_phone_y 0.0 0.000442046184695 0.731684092543 -4.56002298 4.319192949\n",
      "gyr_phone_z 0.0 0.00809806526143 0.583651281463 -5.4380692412 2.70957602\n",
      "rotation_phone_x 0.0 -0.419261023886 0.345103745932 -0.9502214172 0.6510179706\n",
      "rotation_phone_y 0.0 -0.077595123317 0.483427392869 -0.885892745686 0.8974086888\n",
      "rotation_phone_z 0.0 0.160596294009 0.425362639269 -0.9541654584 0.961201412\n",
      "rotation_phone_theta 0.0 0.439443448995 0.22163539759 0.0119734901206 0.97168870451\n",
      "rotation_phone_phi 0.0 0.5235988 2.68737754198e-14 0.5235988 0.5235988\n",
      "labelstairsdown 0.0 0.0 0.0 0 0\n",
      "labelstairsup 0.0 0.0 0.0 0 0\n",
      "labelstanding 0.0 0.0 0.0 0 0\n",
      "labelwalking 0.0 0.0 0.0 0 0\n",
      "labelsitting 0.0 0.0 0.0 0 0\n",
      "labelondesk 0.0 0.0 0.0 0 0\n",
      "Dataset created,\tDuration:19.43667 seconds\n",
      "====================================\n",
      "granularity is 1000\n",
      "Added all sensors and labels\n",
      "column, fraction missing values, mean, standard deviation, min, max\n",
      "acc_phone_x 0.0 0.181274897485 2.22905964088 -11.5921704025 5.02424097436\n",
      "acc_phone_y 0.0 -5.87787917359 4.9049280929 -10.5580368743 8.85383536528\n",
      "acc_phone_z 0.0 -0.559826412465 5.08256188798 -9.3482227025 10.196233272\n",
      "gyr_phone_x 0.0 0.0146877171656 0.263489608419 -0.798753590602 1.47404439315\n",
      "gyr_phone_y 0.0 0.00167596721385 0.577613481289 -2.4737407627 2.27915171762\n",
      "gyr_phone_z 0.0 0.00670780886166 0.365615140537 -1.83041084326 1.62105355543\n",
      "rotation_phone_x 0.0 -0.419147252628 0.337950551047 -0.93844110425 0.469069027164\n",
      "rotation_phone_y 0.0 -0.0772664220551 0.465982222959 -0.82009081755 0.77180470105\n",
      "rotation_phone_z 0.0 0.161424105048 0.406260518205 -0.898035502537 0.715311645763\n",
      "rotation_phone_theta 0.0 0.439619080741 0.213938717149 0.0280859898384 0.90320984765\n",
      "rotation_phone_phi 0.0 0.5235988 1.54722929636e-15 0.5235988 0.5235988\n",
      "labelstairsdown 0.0 0.0 0.0 0 0\n",
      "labelstairsup 0.0 0.0 0.0 0 0\n",
      "labelstanding 0.0 0.0 0.0 0 0\n",
      "labelwalking 0.0 0.0 0.0 0 0\n",
      "labelsitting 0.0 0.0 0.0 0 0\n",
      "labelondesk 0.0 0.0 0.0 0 0\n",
      "Dataset created,\tDuration:5.65417 seconds\n",
      "====================================\n",
      "granularity is 10000\n",
      "Added all sensors and labels\n",
      "column, fraction missing values, mean, standard deviation, min, max\n",
      "acc_phone_x 0.0 0.185597928473 1.52645639953 -3.21101466865 2.23687103948\n",
      "acc_phone_y 0.0 -5.8543987698 4.00544216299 -9.44140887204 2.79530571849\n",
      "acc_phone_z 0.0 -0.505755917623 4.71049532277 -9.33334717017 9.96692245084\n",
      "gyr_phone_x 0.0 0.0145960345234 0.072950594061 -0.10462908435 0.244153183882\n",
      "gyr_phone_y 0.0 0.000401935313193 0.287453401808 -0.57162274949 0.571150493305\n",
      "gyr_phone_z 0.0 0.00829304132729 0.118310412992 -0.33094592789 0.1914915714\n",
      "rotation_phone_x 0.0 -0.41785929227 0.260310807861 -0.92369933199 0.052824880844\n",
      "rotation_phone_y 0.0 -0.0767261676152 0.330807845089 -0.719887303528 0.551047843395\n",
      "rotation_phone_z 0.0 0.165044032126 0.287879239515 -0.457590262612 0.67310940887\n",
      "rotation_phone_theta 0.0 0.441513046559 0.168482303308 0.111768108818 0.767109391873\n",
      "rotation_phone_phi 0.0 0.5235988 3.59228572378e-16 0.5235988 0.5235988\n",
      "labelstairsdown 0.0 0.0 0.0 0 0\n",
      "labelstairsup 0.0 0.0 0.0 0 0\n",
      "labelstanding 0.0 0.0 0.0 0 0\n",
      "labelwalking 0.0 0.0 0.0 0 0\n",
      "labelsitting 0.0 0.0 0.0 0 0\n",
      "labelondesk 0.0 0.0 0.0 0 0\n",
      "Dataset created,\tDuration:2.11380 seconds\n",
      "====================================\n"
     ]
    }
   ],
   "source": [
    "granularities = [250,1000,10000]\n",
    "datasets = []\n",
    "\n",
    "\n",
    "for milliseconds_per_instance in granularities:\n",
    "    initial = time.time()\n",
    "    # Create an initial dataset object with the base directory for our data and a granularity\n",
    "    DataSet = CreateDataset(csv_dataset_path, milliseconds_per_instance)\n",
    "    print('granularity is %d ms'%milliseconds_per_instance)\n",
    "    \n",
    "    DataSet.add_numerical_dataset('bmi160 accelerometer.csv','timestamp',['x','y','z'],'avg','acc_phone_')\n",
    "    DataSet.add_numerical_dataset('bmi160 gyroscope.csv','timestamp',['x','y','z'],'avg','gyr_phone_')\n",
    "    DataSet.add_numerical_dataset('rotation vector.csv','timestamp',['x','y','z','theta','phi'],'avg','rotation_phone_')\n",
    "    DataSet.add_event_dataset('labels.csv','label_start','label_end','label','binary')\n",
    "    print('Added all sensors and labels')\n",
    "    dataset = DataSet.data_table\n",
    "#     util.print_statistics(dataset)\n",
    "    datasets.append(copy.deepcopy(dataset))\n",
    "    dataset.to_csv(result_dataset_path + '/'+str(milliseconds_per_instance)+ '_dataset.csv')\n",
    "    print('Dataset created,\\tDuration:%.5f seconds'%(time.time()-initial))\n",
    "    print('====================================')\n",
    "    \n",
    "    "
   ]
  },
  {
   "cell_type": "code",
   "execution_count": null,
   "metadata": {
    "collapsed": true
   },
   "outputs": [],
   "source": []
  }
 ],
 "metadata": {
  "kernelspec": {
   "display_name": "Python 2",
   "language": "python",
   "name": "python2"
  },
  "language_info": {
   "codemirror_mode": {
    "name": "ipython",
    "version": 2
   },
   "file_extension": ".py",
   "mimetype": "text/x-python",
   "name": "python",
   "nbconvert_exporter": "python",
   "pygments_lexer": "ipython2",
   "version": "2.7.13"
  }
 },
 "nbformat": 4,
 "nbformat_minor": 2
}

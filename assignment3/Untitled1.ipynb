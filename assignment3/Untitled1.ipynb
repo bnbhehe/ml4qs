{
 "cells": [
  {
   "cell_type": "code",
   "execution_count": 332,
   "metadata": {
    "collapsed": false
   },
   "outputs": [
    {
     "name": "stdout",
     "output_type": "stream",
     "text": [
      "Populating the interactive namespace from numpy and matplotlib\n",
      "/home/cts/Desktop/ML4QS/Assignments/assignments_code_git/assignment3\n",
      "Imports done ...✈✈✈✈✈✈✈✈ You are free to go.\n"
     ]
    },
    {
     "name": "stderr",
     "output_type": "stream",
     "text": [
      "/home/cts/anaconda2/lib/python2.7/site-packages/IPython/core/magics/pylab.py:161: UserWarning: pylab import has clobbered these variables: ['copy', 'f', 'clf']\n",
      "`%matplotlib` prevents importing * from pylab and numpy\n",
      "  \"\\n`%matplotlib` prevents importing * from pylab and numpy\"\n"
     ]
    }
   ],
   "source": [
    "from __future__ import absolute_import\n",
    "from __future__ import division\n",
    "from __future__ import print_function\n",
    "%pylab inline\n",
    "import pandas as pd\n",
    "import json\n",
    "import seaborn as sns\n",
    "import copy\n",
    "import os\n",
    "from util.VisualizeDataset import VisualizeDataset\n",
    "from Chapter7.PrepareDatasetForLearning import PrepareDatasetForLearning\n",
    "from Chapter7.LearningAlgorithms import ClassificationAlgorithms\n",
    "from Chapter7.LearningAlgorithms import RegressionAlgorithms\n",
    "from Chapter7.Evaluation import ClassificationEvaluation\n",
    "from Chapter7.Evaluation import RegressionEvaluation\n",
    "from Chapter7.FeatureSelection import FeatureSelectionClassification\n",
    "from Chapter7.FeatureSelection import FeatureSelectionRegression\n",
    "from util import util as util_custom\n",
    "from util.parser import get_labels,generate_csv,generate_labels,get_sensor_values\n",
    "import time\n",
    "from itertools import ifilterfalse\n",
    "from sklearn.model_selection import StratifiedKFold\n",
    "from collections import Counter\n",
    "from itertools import chain\n",
    "import ast\n",
    "import tensorflow as tf\n",
    "import sklearn.preprocessing\n",
    "from sklearn.manifold import TSNE\n",
    "with warnings.catch_warnings():\n",
    "    warnings.filterwarnings(\"ignore\",category=DeprecationWarning)\n",
    "import keras\n",
    "from keras.layers import Activation,Dense,Dropout\n",
    "from keras.models import Sequential\n",
    "import six\n",
    "import math\n",
    "from keras import optimizers\n",
    "from keras import losses\n",
    "from sklearn.svm import SVC\n",
    "from sklearn.metrics import accuracy_score,confusion_matrix\n",
    "from util import visualizer\n",
    "print(os.getcwd())\n",
    "print(\"Imports done ...✈✈✈✈✈✈✈✈ You are free to go.\")\n"
   ]
  },
  {
   "cell_type": "code",
   "execution_count": 168,
   "metadata": {
    "collapsed": false
   },
   "outputs": [],
   "source": [
    "\n",
    "def mlp_model1(D,nb_classes=10):\n",
    "    \n",
    "    model = Sequential()\n",
    "    input_shape = (D,)\n",
    "    print(input_shape,' input dimensions')\n",
    "    layers = [\n",
    "        Dense(100,name='fc1',input_shape=input_shape),\n",
    "        Activation('tanh',name='fc1_act'),\n",
    "        Dropout(0.5),\n",
    "        Dense(20,name='fc2'),\n",
    "        Activation('tanh',name='fc2_act'),\n",
    "        Dropout(0.5),\n",
    "        Dense(nb_classes,name='fc_out'),\n",
    "        Activation('softmax',name='output')\n",
    "    ]\n",
    "    for layer in layers:\n",
    "        print('Added layer:%s'%layer.name)\n",
    "        model.add(layer)\n",
    "    print('Initialized model 1')\n",
    "    return model\n",
    "\n",
    "def mlp_model2(D,nb_classes=10):\n",
    "    \n",
    "    model = Sequential()\n",
    "    input_shape = (D,)\n",
    "    print(input_shape,' input dimensions')\n",
    "    layers = [\n",
    "        Dense(200,name='fc1',input_shape=input_shape),\n",
    "        Activation('tanh',name='fc1_act'),\n",
    "        Dropout(0.3),\n",
    "        Dense(200,name='fc2'),\n",
    "        Activation('tanh',name='fc2_act'),\n",
    "        Dropout(0.3),\n",
    "        Dense(nb_classes,name='fc_out'),\n",
    "        Activation('softmax',name='output')\n",
    "    ]\n",
    "    for layer in layers:\n",
    "        print('Added layer:%s'%layer.name)\n",
    "        model.add(layer)\n",
    "    print('Initialized model 2')\n",
    "    return model\n",
    "\n",
    "def mlp_model3(D,nb_classes=10):\n",
    "    \n",
    "    model = Sequential()\n",
    "    input_shape = (D,)\n",
    "    print(input_shape,' input dimensions')\n",
    "    layers = [\n",
    "        Dense(200,name='fc1',input_shape=input_shape),\n",
    "        Activation('relu',name='fc1_act'),\n",
    "        Dense(200,name='fc2'),\n",
    "        Activation('relu',name='fc2_act'),\n",
    "        Dense(nb_classes,name='fc_out'),\n",
    "        Activation('softmax',name='output')\n",
    "    ]\n",
    "    for layer in layers:\n",
    "        print('Added layer:%s'%layer.name)\n",
    "        model.add(layer)\n",
    "    print('Initialized model 3')\n",
    "    return model\n",
    "\n",
    "def batch_indices(batch_nb, data_length, batch_size):\n",
    "    \"\"\"\n",
    "    This helper function computes a batch start and end index\n",
    "    :param batch_nb: the batch number\n",
    "    :param data_length: the total length of the data being parsed by batches\n",
    "    :param batch_size: the number of inputs in each batch\n",
    "    :return: pair of (start, end) indices\n",
    "    \"\"\"\n",
    "    # Batch start and end index\n",
    "    start = int(batch_nb * batch_size)\n",
    "    end = int((batch_nb + 1) * batch_size)\n",
    "\n",
    "    # When there are not enough inputs left, we reuse some to complete the\n",
    "    # batch\n",
    "    if end > data_length:\n",
    "        shift = end - data_length\n",
    "        start -= shift\n",
    "        end -= shift\n",
    "\n",
    "    return start, end\n",
    "\n",
    "\n",
    "\n",
    "def model_argmax(sess, x, predictions, samples):\n",
    "    \"\"\"\n",
    "    Helper function that computes the current class prediction\n",
    "    :param sess: TF session\n",
    "    :param x: the input placeholder\n",
    "    :param predictions: the model's symbolic output\n",
    "    :param samples: numpy array with input samples (dims must match x)\n",
    "    :return: the argmax output of predictions, i.e. the current predicted class\n",
    "    \"\"\"\n",
    "    feed_dict = {x: samples}\n",
    "    probabilities = sess.run(predictions, feed_dict)\n",
    "\n",
    "    if samples.shape[0] == 1:\n",
    "        return np.argmax(probabilities)\n",
    "    else:\n",
    "        return np.argmax(probabilities, axis=1)\n",
    "\n",
    "\n",
    "\n",
    "def model_loss(y, model, mean=True):\n",
    "\n",
    "    op = model.op\n",
    "    if \"softmax\" in str(op).lower():\n",
    "        logits, = op.inputs\n",
    "    else:\n",
    "        logits = model\n",
    "\n",
    "    out = tf.nn.softmax_cross_entropy_with_logits(logits=logits, labels=y)\n",
    "\n",
    "    if mean:\n",
    "        out = tf.reduce_mean(out)\n",
    "    return out\n",
    "\n",
    "\n",
    "def model_train(sess, x, y, predictions, X_train, Y_train,args=None,verbose=True):\n",
    "\n",
    "    \n",
    "    # Define loss\n",
    "    loss = model_loss(y, predictions)\n",
    "    \n",
    "    train_step = tf.train.AdamOptimizer(learning_rate=args['learning_rate']).minimize(loss)\n",
    "    train_losses = []\n",
    "    init = tf.global_variables_initializer()\n",
    "    sess.run(init)\n",
    "    with sess.as_default():\n",
    "\n",
    "        for epoch in six.moves.xrange(args['nb_epochs']):\n",
    "\n",
    "            nb_batches = int(np.ceil(float(len(X_train)) / args['batch_size']))\n",
    "            epoch_loss = 0.0\n",
    "            prev = time.time()\n",
    "            for batch in range(nb_batches):\n",
    "                start, end = batch_indices(\n",
    "                    batch, len(X_train), args['batch_size'])\n",
    "                cur_batch_size = end - start\n",
    "                _,batch_loss = sess.run([train_step,loss],feed_dict={x: X_train[start:end],\n",
    "                                          y: Y_train[start:end]})\n",
    "                epoch_loss += (cur_batch_size * batch_loss)\n",
    "            epoch_loss /= nb_batches\n",
    "            train_losses.append(epoch_loss)\n",
    "            if verbose and epoch %100 == 0:\n",
    "                cur = time.time()\n",
    "                \n",
    "                print(\"\\tEpoch %d/%d - Loss:%2.6f - Duration:%1.5f seconds\" \n",
    "                      %(epoch,args['nb_epochs'],epoch_loss,cur-prev))\n",
    "                \n",
    "                \n",
    "        print(\"\\tEpoch %d/%d - Loss:%2.6f - Duration:%1.5f seconds\" \n",
    "          %(epoch,args['nb_epochs'],epoch_loss,time.time()-prev))\n",
    "    return train_losses\n",
    "\n",
    "\n",
    "def data_prepare(dataset,x_columns):\n",
    "    X = dataset[x_columns].copy()\n",
    "    y_columns = ['labelstairsdown','labelstairsup','labelwalking']\n",
    "    Y = dataset[y_columns].copy()\n",
    "    return X,Y\n",
    "\n",
    "\n",
    "def model_eval(sess, x, y, model, X_test, Y_test, args=None):\n",
    "    \"\"\"\n",
    "    Compute the accuracy of a TF model on some data\n",
    "    :param sess: TF session to use when training the graph\n",
    "    :param x: input placeholder\n",
    "    :param y: output placeholder (for labels)\n",
    "    :param model: model output predictions\n",
    "    :param X_test: numpy array with training inputs\n",
    "    :param Y_test: numpy array with training outputs\n",
    "    :param args: dict or argparse `Namespace` object.\n",
    "                 Should contain `batch_size`\n",
    "    :return: a float with the accuracy value\n",
    "    \"\"\"\n",
    "\n",
    "    correct_preds = tf.equal(tf.argmax(y, axis=tf.rank(y) - 1),\n",
    "                                 tf.argmax(model, axis=tf.rank(model) - 1))\n",
    "    acc_value = tf.reduce_mean(tf.to_float(correct_preds))\n",
    "    \n",
    "    # Init result var\n",
    "    accuracy = 0.0\n",
    "    preds = np.zeros(Y_test.shape[0])\n",
    "    with sess.as_default():\n",
    "        # Compute number of batches\n",
    "        nb_batches = int(math.ceil(float(len(X_test)) / args['batch_size']))\n",
    "        assert nb_batches * args['batch_size'] >= len(X_test)\n",
    "\n",
    "        for batch in range(nb_batches):\n",
    "            if batch % 100 == 0 and batch > 0:\n",
    "                print(\"Batch \" + str(batch))\n",
    "\n",
    "            start = batch * args['batch_size']\n",
    "            end = min(len(X_test), start + args['batch_size'])\n",
    "            cur_batch_size = end - start\n",
    "\n",
    "            cur_acc, cur_preds = sess.run([acc_value, correct_preds],\n",
    "                                          feed_dict={x: X_test[start:end],\n",
    "                                                     y: Y_test[start:end]})\n",
    "            accuracy += (cur_batch_size * cur_acc)\n",
    "            preds[start:end, ] = cur_preds\n",
    "\n",
    "        assert end >= len(X_test)\n",
    "\n",
    "        # Divide by number of examples to get final value\n",
    "        accuracy /= len(X_test)\n",
    "\n",
    "    return accuracy, preds"
   ]
  },
  {
   "cell_type": "code",
   "execution_count": 166,
   "metadata": {
    "collapsed": false
   },
   "outputs": [
    {
     "name": "stdout",
     "output_type": "stream",
     "text": [
      "['log_assignment2', 'log_events_assignment3', 'log_assignment3', 'csv', 'log_events_assignment2']\n"
     ]
    }
   ],
   "source": [
    "dataset_folder = './datasets'\n",
    "figures_folder = './figures'\n",
    "classifier_folder = './classification'\n",
    "result_dataset_path = './intermediate_datafiles/'\n",
    "final_dataset_name = 'final_dataset.csv'\n",
    "files = os.listdir(dataset_folder)\n",
    "print(files)\n",
    "csv_dataset_path = os.path.join(dataset_folder,'csv/')\n",
    "if not os.path.exists(result_dataset_path):\n",
    "    print('Creating result directory: ' + result_dataset_path)\n",
    "    os.makedirs(result_dataset_path)\n",
    "if not os.path.exists(csv_dataset_path):\n",
    "    print('Creating result directory: ' + csv_dataset_path)\n",
    "    os.makedirs(csv_dataset_path)\n",
    "if not os.path.exists(figures_folder):\n",
    "    print('Creating result directory: ' + figures_folder)\n",
    "    os.makedirs(figures_folder)\n",
    "if not os.path.exists(classifier_folder):\n",
    "    print('Creating result directory: ' + classifier_folder)\n",
    "    os.makedirs(classifier_folder)"
   ]
  },
  {
   "cell_type": "code",
   "execution_count": 169,
   "metadata": {
    "collapsed": false
   },
   "outputs": [
    {
     "name": "stdout",
     "output_type": "stream",
     "text": [
      "Dataset size:942 instances - 348 features\n",
      "Normal features length 10\n",
      "Kalman features length 10\n",
      "PCA features length 6\n",
      "Time domain features length 55\n",
      "Frequency Domain features length 261\n",
      "Labels:'labelstairsdown', 'labelstairsup', 'labelwalking'\n"
     ]
    }
   ],
   "source": [
    "dataset = pd.read_csv(os.path.join(result_dataset_path,final_dataset_name),index_col=0)\n",
    "print(\"Dataset size:%d instances - %d features\"%(dataset.shape))\n",
    "features = list(dataset.keys().values)\n",
    "\n",
    "for i,feat in enumerate(features):\n",
    "#     print(i,feat)\n",
    "    pass\n",
    "normal_features = features[0:10]\n",
    "kalman_features = features[14:24]\n",
    "pca_features = features[25:31]\n",
    "time_domain_features = features[31:86]\n",
    "freq_domain_features = features[87:]\n",
    "labels = features[11:14]\n",
    "print(\"Normal features length %d\"%len(normal_features))\n",
    "print(\"Kalman features length %d\"%len(kalman_features))\n",
    "print(\"PCA features length %d\"%len(pca_features))\n",
    "print(\"Time domain features length %d\"%len(time_domain_features))\n",
    "print(\"Frequency Domain features length %d\"%len(freq_domain_features))\n",
    "print(\"Labels:%s\"%str(labels).replace('[','').replace(']',''))"
   ]
  },
  {
   "cell_type": "code",
   "execution_count": 275,
   "metadata": {
    "collapsed": false
   },
   "outputs": [],
   "source": [
    "fwd_select = True\n",
    "max_feats = 50\n",
    "all_features = list(set().union(normal_features,\n",
    "                                            pca_features,\n",
    "                                            time_domain_features, \n",
    "                                            freq_domain_features))\n",
    "prepare = PrepareDatasetForLearning()\n",
    "\n",
    "\n",
    "\n",
    "# fs = FeatureSelectionClassification()\n",
    "# if fwd_select:\n",
    "#     features, ordered_features, ordered_scores = fs.forward_selection(max_feats, X_train[all_features], Y_train)"
   ]
  },
  {
   "cell_type": "code",
   "execution_count": 287,
   "metadata": {
    "collapsed": false
   },
   "outputs": [
    {
     "data": {
      "image/png": "[encoded data removed]",
      "text/plain": [
       "<matplotlib.figure.Figure at 0x7fb47eebb790>"
      ]
     },
     "metadata": {},
     "output_type": "display_data"
    }
   ],
   "source": [
    "X_train, X_test, Y_train, Y_test = prepare.split_single_dataset_classification(\n",
    "    dataset, ['label'], 'like', 0.7, filter=True, temporal=False)\n",
    "\n",
    "rcParams['figure.figsize'] = (20,3)\n",
    "plt.plot(range(1, max_feats+1), ordered_scores)\n",
    "plt.xlabel('number of features')\n",
    "plt.ylabel('accuracy')\n",
    "plt.show()\n",
    "forward_features = ordered_features\n",
    "with open('fwd_features.txt','w+') as f:\n",
    "    for feat in forward_features:\n",
    "        f.write(feat+'\\n')\n",
    "\n",
    "X_train = X_train[ordered_features].as_matrix()\n",
    "X_test = X_test[ordered_features].as_matrix()\n",
    "Y_train[Y_train == 'labelstairsup'] = 0 \n",
    "Y_train[Y_train == 'labelstairsdown'] = 1\n",
    "Y_train[Y_train == 'labelwalking'] = 2\n",
    "Y_test[Y_test == 'labelstairsup'] = 0 \n",
    "Y_test[Y_test == 'labelstairsdown'] = 1\n",
    "Y_test[Y_test == 'labelwalking'] = 2\n",
    "\n",
    "Y_train = Y_train.astype(int)\n",
    "Y_test = Y_test.astype(int)\n",
    "lb = sklearn.preprocessing.LabelBinarizer()\n",
    "lb.fit(Y_train)\n",
    "Y_train = lb.transform(Y_train)\n",
    "Y_test = lb.transform(Y_test)\n"
   ]
  },
  {
   "cell_type": "markdown",
   "metadata": {},
   "source": [
    "### Start classifying. Prepare stratified folds 70 % - 30 % cutout."
   ]
  },
  {
   "cell_type": "markdown",
   "metadata": {},
   "source": [
    "### Model Preparation"
   ]
  },
  {
   "cell_type": "code",
   "execution_count": 288,
   "metadata": {
    "collapsed": false
   },
   "outputs": [],
   "source": [
    "#### NICE SETTING.\n",
    "classes = Y_train.shape[1]\n",
    "model = Sequential()\n",
    "model.add(Dense(200, input_dim=X_train.shape[1],name='fc1')) # X_train.shape[1] == 15 here\n",
    "model.add(Activation('tanh',name='fc1_out'))\n",
    "model.add(Dropout(0.5,name='drop1'))\n",
    "model.add(Dense(200,name='fc2'))\n",
    "model.add(Activation('tanh',name='fc2_out'))\n",
    "model.add(Dropout(0.2,name='drop2'))\n",
    "model.add(Dense(30,name='fc3'))\n",
    "model.add(Activation('tanh',name='fc3_out'))\n",
    "model.add(Dense(classes,name='preact_out')) # y_train.shape[1] == 2 here\n",
    "model.add(Activation('softmax',name='out_layer'))\n",
    "\n",
    "optim = optimizers.Adam(1e-3)\n",
    "model.compile(loss='categorical_crossentropy', optimizer=optim,metrics=['accuracy'])\n"
   ]
  },
  {
   "cell_type": "code",
   "execution_count": 289,
   "metadata": {
    "collapsed": false
   },
   "outputs": [
    {
     "name": "stdout",
     "output_type": "stream",
     "text": [
      "272/272 [==============================] - 0s\n",
      "\n",
      " 0.768382370472\n"
     ]
    }
   ],
   "source": [
    "train_history = model.fit(X_train, Y_train, epochs=1000, batch_size=128,verbose=False)\n",
    "test_loss,acc  = model.evaluate(X_test, Y_test, batch_size=X_test.shape[0])\n",
    "print('\\n',acc)\n"
   ]
  },
  {
   "cell_type": "code",
   "execution_count": 334,
   "metadata": {
    "collapsed": false
   },
   "outputs": [
    {
     "data": {
      "image/png": "[encoded data removed]",
      "text/plain": [
       "<matplotlib.figure.Figure at 0x7fb47b131fd0>"
      ]
     },
     "metadata": {},
     "output_type": "display_data"
    }
   ],
   "source": [
    "D = X_train.shape[1]\n",
    "train_losses = train_history.history['loss']\n",
    "rcParams['figure.figsize'] = (20,5)\n",
    "plt.plot(train_losses)\n",
    "plt.title('Train loss with MLP model with features %d'%D)\n",
    "save_path = os.path.join(classifier_folder,'mlp_model_%d'%D)\n",
    "if not os.path.exists(save_path):\n",
    "    os.mkdir(save_path)\n",
    "plt.savefig(os.path.join(save_path,'mlp_train_loss.png'))\n"
   ]
  },
  {
   "cell_type": "code",
   "execution_count": 335,
   "metadata": {
    "collapsed": false
   },
   "outputs": [
    {
     "name": "stdout",
     "output_type": "stream",
     "text": [
      "Test accuracy with 50 features returned: 76.838\n",
      "Saved model to disk\n",
      "Creating confusion matrix...\n",
      "Writing confusion matrix to path ./classification/mlp_model_50\n"
     ]
    },
    {
     "data": {
      "image/png": "[encoded data removed]",
      "text/plain": [
       "<matplotlib.figure.Figure at 0x7fb47e438510>"
      ]
     },
     "metadata": {},
     "output_type": "display_data"
    }
   ],
   "source": [
    "preds = model.predict(X_test)\n",
    "correct = np.argmax(preds,axis=1) == np.argmax(Y_test,axis=1)\n",
    "rcParams['figure.figsize'] = (20,10)\n",
    "out = \"Test accuracy with %d features returned: %.3f\"%(len(features),acc*100)\n",
    "print(out)\n",
    "if not os.path.exists(save_path):\n",
    "    os.mkdir(save_path)\n",
    "# serialize model to JSON\n",
    "model_json = model.to_json()\n",
    "with open(save_path+\"/model.json\", \"w\") as json_file:\n",
    "    json_file.write(model_json)\n",
    "# serialize weights to HDF5\n",
    "model.save_weights(save_path+\"/model.h5\")\n",
    "print(\"Saved model to disk\")\n",
    " \n",
    "visualizer.save_conf_matrix(Y_test,preds,out,path=save_path,classes = labels)"
   ]
  },
  {
   "cell_type": "code",
   "execution_count": 296,
   "metadata": {
    "collapsed": false
   },
   "outputs": [
    {
     "name": "stdout",
     "output_type": "stream",
     "text": [
      "Test accuracy with 50 features returned: 77.574\n",
      "Creating confusion matrix...\n",
      "Writing confusion matrix to path ./classification/svm_model_50\n"
     ]
    },
    {
     "data": {
      "image/png": "[encoded data removed]",
      "text/plain": [
       "<matplotlib.figure.Figure at 0x7fb4815382d0>"
      ]
     },
     "metadata": {},
     "output_type": "display_data"
    }
   ],
   "source": [
    "clf = SVC(kernel='linear',verbose=False,max_iter=-1,decision_function_shape='ovr')\n",
    "clf.fit(X_train,np.argmax(Y_train,axis=1))\n",
    "svm_acc = clf.score(X_test,np.argmax(Y_test,axis=1))\n",
    "svm_predictions = clf.predict(X_test)\n",
    "out = \"Test accuracy with %d features returned: %.3f\"%(len(features),svm_acc*100)\n",
    "print(out)\n",
    "save_path = os.path.join(classifier_folder,'svm_model_%d'%D)\n",
    "\n",
    "if not os.path.exists(save_path):\n",
    "    os.mkdir(save_path)\n",
    "svm_preds = lb.transform(svm_predictions)\n",
    "visualizer.save_conf_matrix(Y_test,svm_preds,out,path=save_path,classes = labels)"
   ]
  },
  {
   "cell_type": "markdown",
   "metadata": {},
   "source": [
    "### Feature extraction"
   ]
  },
  {
   "cell_type": "code",
   "execution_count": 345,
   "metadata": {
    "collapsed": false
   },
   "outputs": [
    {
     "name": "stdout",
     "output_type": "stream",
     "text": [
      "fc1\n",
      "fc1_out\n",
      "drop1\n",
      "fc2\n",
      "fc2_out\n",
      "drop2\n",
      "fc3\n",
      "fc3_out\n"
     ]
    }
   ],
   "source": [
    "fc3_extract = Sequential()\n",
    "for layer in model.layers[:-2]:\n",
    "    print(layer.name)\n",
    "    fc3_extract.add(layer)\n",
    "classes = ['stairs up','stairs down','walking']\n",
    "colors = plt.get_cmap('gist_ncar')(np.linspace(0, 0.8,len(classes)))\n",
    "markers = ['^','v','.']"
   ]
  },
  {
   "cell_type": "code",
   "execution_count": 356,
   "metadata": {
    "collapsed": true
   },
   "outputs": [],
   "source": [
    "def visualize(features,labels,filename = 'tsne.png',annotate=False,plot_only = 1000,load=False,classes=np.arange(10)):\n",
    "    assert features.shape[0] >= len(labels), \"More labels than weights\"\n",
    "    print('Plotting features of dimensionality:%d'%features.shape[1])\n",
    "    print('Saving to filename: %s'%filename)\n",
    "    projections_file = 'features_2d.npy'\n",
    "    tsne = TSNE(perplexity=50, n_components=2, n_iter=5000,verbose=False)\n",
    "    projection_2d = tsne.fit_transform(features)\n",
    "    print('fitting features complete...')\n",
    "    np.save(projections_file,projection_2d)\n",
    "    plt.figure(figsize=(10, 10))  #in inches\n",
    "    xx = np.arange(len(classes))\n",
    "    tt = np.random.randn(len(classes))\n",
    "    print('plotting features ...',projection_2d.shape)\n",
    "    for i in range(xx.shape[0]):\n",
    "        proxy = plt.scatter(xx[i],tt[i],\n",
    "            color=colors[i],\n",
    "            marker=markers[i],s=10,\n",
    "            label=classes[i])\n",
    "    for i,label in enumerate(labels):\n",
    "        x = projection_2d[i,0]\n",
    "        y = projection_2d[i,1]\n",
    "        plt.scatter(x, y ,color = colors[label],s=30,marker=markers[label])\n",
    "        if annotate:\n",
    "            plt.annotate(classes[label],xy=(x, y),xytext=(5, 2),textcoords='offset points',ha='right',va='bottom')\n",
    "    plt.legend(classes)\n",
    "    plt.savefig(filename)\n",
    "    plt.show()\n"
   ]
  },
  {
   "cell_type": "code",
   "execution_count": 357,
   "metadata": {
    "collapsed": false
   },
   "outputs": [
    {
     "name": "stdout",
     "output_type": "stream",
     "text": [
      "(272, 30)\n",
      "Plotting features of dimensionality:50\n",
      "Saving to filename: ./classification/mlp_model_50/tsne.png\n",
      "fitting features complete...\n",
      "plotting features ... (272, 2)\n"
     ]
    },
    {
     "data": {
      "image/png": "[encoded data removed]",
      "text/plain": [
       "<matplotlib.figure.Figure at 0x7fb47ac9d0d0>"
      ]
     },
     "metadata": {},
     "output_type": "display_data"
    }
   ],
   "source": [
    "fc3_extract.compile(loss='categorical_crossentropy', optimizer=optim,metrics=['accuracy'])\n",
    "fc3_features = fc3_extract.predict(X_test)\n",
    "fc3_features_train = fc3_extract.predict(X_train)\n",
    "print(fc3_features.shape)\n",
    "plot_only = fc3_features.shape[0]\n",
    "\n",
    "visualize(X_test,np.argmax(Y_test,axis=1),classes= classes,annotate=False,filename=save_path+'/tsne.png',plot_only=plot_only,load=True)"
   ]
  },
  {
   "cell_type": "code",
   "execution_count": null,
   "metadata": {
    "collapsed": true
   },
   "outputs": [],
   "source": [
    "clf = SVC(kernel='linear',verbose=False,max_iter=-1,decision_function_shape='ovr')\n",
    "clf.fit(fc3_features_train,np.argmax(Y_train,axis=1))\n",
    "svm_acc = clf.score(fc3_features,np.argmax(Y_test,axis=1))\n",
    "svm_predictions = clf.predict(fc3_features)\n",
    "out = \"Test accuracy with %d features returned: %.3f\"%(len(features),svm_acc*100)\n",
    "print(out)\n",
    "save_path = os.path.join(classifier_folder,'svm_model_fe_%d'%D)\n",
    "\n",
    "if not os.path.exists(save_path):\n",
    "    os.mkdir(save_path)\n",
    "svm_preds = lb.transform(svm_predictions)\n",
    "visualizer.save_conf_matrix(Y_test,svm_preds,out,path=save_path,classes = labels)"
   ]
  }
 ],
 "metadata": {
  "kernelspec": {
   "display_name": "Python 2",
   "language": "python",
   "name": "python2"
  },
  "language_info": {
   "codemirror_mode": {
    "name": "ipython",
    "version": 2
   },
   "file_extension": ".py",
   "mimetype": "text/x-python",
   "name": "python",
   "nbconvert_exporter": "python",
   "pygments_lexer": "ipython2",
   "version": "2.7.13"
  }
 },
 "nbformat": 4,
 "nbformat_minor": 2
}

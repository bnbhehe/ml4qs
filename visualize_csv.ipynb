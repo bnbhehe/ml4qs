{
 "cells": [
  {
   "cell_type": "code",
   "execution_count": 1,
   "metadata": {
    "collapsed": false
   },
   "outputs": [],
   "source": [
    "from CoursePythonCode.Chapter2.CreateDataset import CreateDataset\n",
    "from CoursePythonCode.util.VisualizeDataset import VisualizeDataset\n",
    "from CoursePythonCode.util import util\n",
    "import copy\n",
    "import os\n",
    "import pandas as pd\n",
    "#%pylab inline\n",
    "from __future__ import division"
   ]
  },
  {
   "cell_type": "code",
   "execution_count": 7,
   "metadata": {
    "collapsed": false
   },
   "outputs": [],
   "source": [
    "dataset_folder = './datasets/stairs/csv/'\n",
    "csv_files = os.listdir(dataset_folder)\n"
   ]
  },
  {
   "cell_type": "code",
   "execution_count": 8,
   "metadata": {
    "collapsed": false
   },
   "outputs": [],
   "source": [
    "\n",
    "#milliseconds_per_instance = 250\n",
    "DataSet = CreateDataset(dataset_folder, 1000)\n",
    "DataSet.add_numerical_dataset(csv_files[0],'timestamp',['x','y','z'],prefix=csv_files[0][0:3]+\"_\")\n",
    "\n"
   ]
  },
  {
   "cell_type": "code",
   "execution_count": 9,
   "metadata": {
    "collapsed": false
   },
   "outputs": [
    {
     "data": {
      "text/html": [
       "<div>\n",
       "<table border=\"1\" class=\"dataframe\">\n",
       "  <thead>\n",
       "    <tr style=\"text-align: right;\">\n",
       "      <th></th>\n",
       "      <th>lin_x</th>\n",
       "      <th>lin_y</th>\n",
       "      <th>lin_z</th>\n",
       "    </tr>\n",
       "  </thead>\n",
       "  <tbody>\n",
       "    <tr>\n",
       "      <th>2017-06-11 02:26:25</th>\n",
       "      <td>0.353629</td>\n",
       "      <td>-2.48154</td>\n",
       "      <td>0.890658</td>\n",
       "    </tr>\n",
       "    <tr>\n",
       "      <th>2017-06-11 02:26:26</th>\n",
       "      <td>0.114502</td>\n",
       "      <td>-1.71797</td>\n",
       "      <td>0.118914</td>\n",
       "    </tr>\n",
       "    <tr>\n",
       "      <th>2017-06-11 02:26:27</th>\n",
       "      <td>-1.39259</td>\n",
       "      <td>-0.170968</td>\n",
       "      <td>1.1937</td>\n",
       "    </tr>\n",
       "    <tr>\n",
       "      <th>2017-06-11 02:26:28</th>\n",
       "      <td>-1.11898</td>\n",
       "      <td>-0.828181</td>\n",
       "      <td>1.31259</td>\n",
       "    </tr>\n",
       "    <tr>\n",
       "      <th>2017-06-11 02:26:29</th>\n",
       "      <td>-0.749156</td>\n",
       "      <td>-0.81689</td>\n",
       "      <td>1.03003</td>\n",
       "    </tr>\n",
       "  </tbody>\n",
       "</table>\n",
       "</div>"
      ],
      "text/plain": [
       "                        lin_x     lin_y     lin_z\n",
       "2017-06-11 02:26:25  0.353629  -2.48154  0.890658\n",
       "2017-06-11 02:26:26  0.114502  -1.71797  0.118914\n",
       "2017-06-11 02:26:27  -1.39259 -0.170968    1.1937\n",
       "2017-06-11 02:26:28  -1.11898 -0.828181   1.31259\n",
       "2017-06-11 02:26:29 -0.749156  -0.81689   1.03003"
      ]
     },
     "execution_count": 9,
     "metadata": {},
     "output_type": "execute_result"
    }
   ],
   "source": [
    "DataSet.data_table.head()"
   ]
  },
  {
   "cell_type": "code",
   "execution_count": 5,
   "metadata": {
    "collapsed": false
   },
   "outputs": [
    {
     "ename": "NameError",
     "evalue": "name 'dataset' is not defined",
     "output_type": "error",
     "traceback": [
      "\u001b[0;31m---------------------------------------------------------------------------\u001b[0m",
      "\u001b[0;31mNameError\u001b[0m                                 Traceback (most recent call last)",
      "\u001b[0;32m<ipython-input-5-b005fceb5ea3>\u001b[0m in \u001b[0;36m<module>\u001b[0;34m()\u001b[0m\n\u001b[1;32m      1\u001b[0m \u001b[0mDataViz\u001b[0m \u001b[0;34m=\u001b[0m \u001b[0mVisualizeDataset\u001b[0m\u001b[0;34m(\u001b[0m\u001b[0;34m)\u001b[0m\u001b[0;34m\u001b[0m\u001b[0m\n\u001b[1;32m      2\u001b[0m \u001b[0;31m#DataViz.plot_dataset_boxplot(dataset, ['acc_x', 'acc_y', 'acc_z', 'gyro_x', 'gyro_y', 'gyro_z'])\u001b[0m\u001b[0;34m\u001b[0m\u001b[0;34m\u001b[0m\u001b[0m\n\u001b[0;32m----> 3\u001b[0;31m \u001b[0mDataViz\u001b[0m\u001b[0;34m.\u001b[0m\u001b[0mplot_dataset_boxplot\u001b[0m\u001b[0;34m(\u001b[0m\u001b[0mdataset\u001b[0m\u001b[0;34m,\u001b[0m \u001b[0;34m[\u001b[0m\u001b[0;34m'acc_x'\u001b[0m\u001b[0;34m,\u001b[0m \u001b[0;34m'acc_y'\u001b[0m\u001b[0;34m,\u001b[0m \u001b[0;34m'acc_z'\u001b[0m\u001b[0;34m]\u001b[0m\u001b[0;34m)\u001b[0m\u001b[0;34m\u001b[0m\u001b[0m\n\u001b[0m",
      "\u001b[0;31mNameError\u001b[0m: name 'dataset' is not defined"
     ]
    }
   ],
   "source": [
    "DataViz = VisualizeDataset()\n",
    "#DataViz.plot_dataset_boxplot(dataset, ['acc_x', 'acc_y', 'acc_z', 'gyro_x', 'gyro_y', 'gyro_z'])\n",
    "DataViz.plot_dataset_boxplot(dataset, ['acc_x', 'acc_y', 'acc_z'])"
   ]
  },
  {
   "cell_type": "code",
   "execution_count": null,
   "metadata": {
    "collapsed": false
   },
   "outputs": [],
   "source": [
    "#DataViz.plot_dataset(dataset, ['acc_', 'gyro_'],['like', 'like'],['line', 'line'])\n",
    "DataViz.plot_dataset(dataset, ['acc_'],['like'],['line'])"
   ]
  },
  {
   "cell_type": "code",
   "execution_count": null,
   "metadata": {
    "collapsed": true
   },
   "outputs": [],
   "source": []
  }
 ],
 "metadata": {
  "kernelspec": {
   "display_name": "Python 2",
   "language": "python",
   "name": "python2"
  },
  "language_info": {
   "codemirror_mode": {
    "name": "ipython",
    "version": 2
   },
   "file_extension": ".py",
   "mimetype": "text/x-python",
   "name": "python",
   "nbconvert_exporter": "python",
   "pygments_lexer": "ipython2",
   "version": "2.7.13"
  }
 },
 "nbformat": 4,
 "nbformat_minor": 2
}

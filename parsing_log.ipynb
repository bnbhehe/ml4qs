{
 "cells": [
  {
   "cell_type": "markdown",
   "metadata": {},
   "source": [
    "# PLACE ALL IMPORTS HERE TO AVOID RE-IMPORTING "
   ]
  },
  {
   "cell_type": "code",
   "execution_count": 223,
   "metadata": {
    "collapsed": false
   },
   "outputs": [
    {
     "name": "stdout",
     "output_type": "stream",
     "text": [
      "Populating the interactive namespace from numpy and matplotlib\n",
      "/home/cts/Desktop/ML4QS/Assignments/Assignment1_code\n"
     ]
    }
   ],
   "source": [
    "from __future__ import absolute_import\n",
    "from __future__ import division\n",
    "from __future__ import print_function\n",
    "from pprint import pprint\n",
    "%pylab inline\n",
    "import pandas as pd\n",
    "import os\n",
    "from collections import Counter\n",
    "from itertools import chain\n",
    "import json\n",
    "import seaborn as sns\n",
    "import matplotlib.pyplot as plt\n",
    "import ast\n",
    "\n",
    "import gc\n",
    "print(os.getcwd())"
   ]
  },
  {
   "cell_type": "markdown",
   "metadata": {},
   "source": [
    "# HELPER FUNCTIONS . HERE PUT ALL THE FUNCTIONS ACTUALLY"
   ]
  },
  {
   "cell_type": "code",
   "execution_count": 232,
   "metadata": {
    "collapsed": false
   },
   "outputs": [],
   "source": [
    "\n",
    "def get_sensor_values(fname):\n",
    "    '''Get sensor values function. Parses the .txt log and puts all sensors in a csv'''\n",
    "    '''\n",
    "        args:\n",
    "            fname the filename of the sensor log\n",
    "        \n",
    "        output:\n",
    "            sensor_dict a dictionary where the keys are the sensors and the values are label-vector-timestamp\n",
    "    '''\n",
    "    sensors_dict = {}\n",
    "    with open(fname,'r+') as f:\n",
    "        for line in f.readlines():\n",
    "            splitted = line.split('|')\n",
    "            if len(splitted) != 4:\n",
    "                #in case we are before our data to avoid parsing errors\n",
    "                continue\n",
    "            splitted = [x.strip().lower() for x in splitted]\n",
    "            label,sensorname,vector,timestamp = splitted\n",
    "            \n",
    "            ### same as above this is actually the header  list.\n",
    "            if sensorname == 'sensorname':\n",
    "                continue\n",
    "            label = int(label)\n",
    "            vector = ast.literal_eval(vector)\n",
    "            timestamp = int(timestamp)\n",
    "            if sensorname not in sensor_dict.keys():\n",
    "                sensor_dict[sensorname] = []\n",
    "            else:\n",
    "                tmp_list = sensor_dict.get(sensorname)\n",
    "                tmp_list.append([label,vector,timestamp])\n",
    "                sensors_dict[sensorname] = tmp_list\n",
    "            \n",
    "    return sensors_dict\n",
    "\n",
    "def generate_csv(values,header=['label','x','y','z','timestamp'],fname='./data/toy_data/csv/gyroscope.csv'):\n",
    "    '''Creates a .csv at a specified path for a certain input'''\n",
    "    '''\n",
    "        args:\n",
    "            values    the sensor data values , a list of lists in our case\n",
    "            header    the header of the .csv . Default is label,x,y,z,timestamp \n",
    "            fname     the path and filename to save the .csv file\n",
    "        \n",
    "            \n",
    "    '''\n",
    "    with open(fname,'w') as f:\n",
    "        f.write(''.join([x+',' for x in header])+'\\n')\n",
    "        for v in values:\n",
    "            v[0] = int(v[0])\n",
    "            v[2] = int(v[2])\n",
    "            x = str(v[1]).replace('[','').replace(']','').replace(' ','')\n",
    "            line = '%d,%s,%d\\n'%(v[0],x,v[2])\n",
    "            f.write(line)"
   ]
  },
  {
   "cell_type": "code",
   "execution_count": 225,
   "metadata": {
    "collapsed": false
   },
   "outputs": [
    {
     "name": "stdout",
     "output_type": "stream",
     "text": [
      "./datasets/toy_data/csv/\n"
     ]
    }
   ],
   "source": [
    "#Directory tree should be :\n",
    "# |-WORKSPACE\n",
    "# |--thisnotebok.ipynb\n",
    "# |--datasets\n",
    "# |--toy_data\n",
    "# |---sensorLog_01.txt\n",
    "# |---csv\n",
    "# |----sensorname.csv\n",
    "# |----anothersensorname.csv\n",
    "dataset_folder = './datasets'\n",
    "current_dataset = 'toy_data'\n",
    "dataset_fname = 'sensorLog_01.txt'\n",
    "\n",
    "dataset_path = os.path.join(dataset_folder+'/'+current_dataset,dataset_fname)\n",
    "csv_path = os.path.join(dataset_folder+'/'+current_dataset,'csv/')\n",
    "if not os.path.exists(csv_path):\n",
    "    os.mkdir(csv_path)\n",
    "cnt = 0\n",
    "print(csv_path)\n"
   ]
  },
  {
   "cell_type": "markdown",
   "metadata": {},
   "source": [
    "# Try not to run this cell multiple times when we get more data. This is the file parsing and bottleneck of execution"
   ]
  },
  {
   "cell_type": "code",
   "execution_count": 229,
   "metadata": {
    "collapsed": false
   },
   "outputs": [],
   "source": [
    "sensor_dict = get_sensor_values(dataset_path)\n"
   ]
  },
  {
   "cell_type": "code",
   "execution_count": 230,
   "metadata": {
    "collapsed": false
   },
   "outputs": [
    {
     "name": "stdout",
     "output_type": "stream",
     "text": [
      "==============================================================\n",
      "Sensors are: [\n",
      "  \"bmi160 accelerometer\", \n",
      "  \"bmp280 pressure\", \n",
      "  \"rpr0521 light sensor\", \n",
      "  \"gravity\", \n",
      "  \"bmi160 gyroscope\", \n",
      "  \"rotation vector\", \n",
      "  \"linear acceleration\"\n",
      "]\n"
     ]
    }
   ],
   "source": [
    "#Get sensor names to iterate over them\n",
    "sensor_names = sensor_dict.keys()\n",
    "print('==============================================================')\n",
    "print('Sensors are:',json.dumps(sensor_names,indent=2))"
   ]
  },
  {
   "cell_type": "code",
   "execution_count": 233,
   "metadata": {
    "collapsed": true
   },
   "outputs": [],
   "source": [
    "for name in sensor_names:\n",
    "    fname = name.replace(' ','_')+'.csv'\n",
    "    generate_csv(sensor_dict[name],fname=csv_path+fname)"
   ]
  },
  {
   "cell_type": "code",
   "execution_count": null,
   "metadata": {
    "collapsed": true
   },
   "outputs": [],
   "source": []
  }
 ],
 "metadata": {
  "kernelspec": {
   "display_name": "Python 2",
   "language": "python",
   "name": "python2"
  },
  "language_info": {
   "codemirror_mode": {
    "name": "ipython",
    "version": 2
   },
   "file_extension": ".py",
   "mimetype": "text/x-python",
   "name": "python",
   "nbconvert_exporter": "python",
   "pygments_lexer": "ipython2",
   "version": "2.7.13"
  }
 },
 "nbformat": 4,
 "nbformat_minor": 2
}
